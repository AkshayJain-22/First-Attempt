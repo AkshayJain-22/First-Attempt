{
 "cells": [
  {
   "cell_type": "raw",
   "id": "92a2c9ca",
   "metadata": {},
   "source": [
    "Q1. What is the concept of a metaclass?\n",
    "Ans. Metaclasses defines the way in which a class behaves.\n",
    "\n",
    "Q2. What is the best way to declare a class's metaclass?\n",
    "Ans. In the class definition itself. class new_class(metaclass=Metaclass_name):\n",
    "\n",
    "Q3. How do class decorators overlap with metaclasses for handling classes?\n",
    "\n",
    "Q4. How do class decorators overlap with metaclasses for handling instances?\n",
    "Ans.3 and 4:-\n",
    "\n",
    "def extras(Class): if required():\n",
    "\n",
    "Class.extra = extra return Class\n",
    "\n",
    "@extras class Client1: ... # Clientl = extras(Clientl)\n",
    "\n",
    "@extras class Client2: ... # Rebinds class independent of instances\n",
    "\n",
    "X = Client1() # Makes instance of augmented class\n",
    "\n",
    "X.extra() # X is instance of original Clientl"
   ]
  }
 ],
 "metadata": {
  "kernelspec": {
   "display_name": "Python 3 (ipykernel)",
   "language": "python",
   "name": "python3"
  },
  "language_info": {
   "codemirror_mode": {
    "name": "ipython",
    "version": 3
   },
   "file_extension": ".py",
   "mimetype": "text/x-python",
   "name": "python",
   "nbconvert_exporter": "python",
   "pygments_lexer": "ipython3",
   "version": "3.9.7"
  }
 },
 "nbformat": 4,
 "nbformat_minor": 5
}
