{
 "cells": [
  {
   "cell_type": "raw",
   "id": "be0d351f",
   "metadata": {},
   "source": [
    "1. In what modes should the PdfFileReader() and PdfFileWriter() File objects will be opened?\n",
    "Ans. PdfFileReader() : 'rb'\n",
    "     PdfFileWriter() : 'wb'\n",
    "            \n",
    "2. From a PdfFileReader object, how do you get a Page object for page 5?\n",
    "Ans. Page = PdfFileReader_object.getpage(4)\n",
    "\n",
    "3. What PdfFileReader variable stores the number of pages in the PDF document?\n",
    "Ans. numPages\n",
    "\n",
    "4. If a PdfFileReader object’s PDF is encrypted with the password swordfish, what must you do before you can obtain Page objects from it?\n",
    "Ans. password = 'swordfish'\n",
    "     PdfFileReader_object.decrypt(password)\n",
    "\n",
    "5. What methods do you use to rotate a page?\n",
    "Ans. rotateClockwise() or rotateCounterClockwise()\n",
    "\n",
    "6. What is the difference between a Run object and a Paragraph object?\n",
    "Ans. Run Object: A run is the object most closely associated with inline content; text, pictures, and other items that are          flowed between the block-item boundaries within a paragraph\n",
    "     Paragraph Object: \n",
    "\n",
    "7. How do you obtain a list of Paragraph objects for a Document object that’s stored in a variable named doc?\n",
    "Ans. print(doc.paragraphs)\n",
    "\n",
    "8. What type of object has bold, underline, italic, strike, and outline variables?\n",
    "Ans. Run object\n",
    "\n",
    "9. What is the difference between False, True, and None for the bold variable?\n",
    "Ans. False and None mean the same which is printing to file without Bolding the characters.\n",
    "     True means that the characters will be printed bold\n",
    "\n",
    "10. How do you create a Document object for a new Word document?\n",
    "Ans. from docx import Document\n",
    "     document = Document()\n",
    "     \n",
    "11. How do you add a paragraph with the text 'Hello, there!' to a Document object stored in a variable named doc?\n",
    "Ans. doc.add_paragraph('Hello, there!')\n",
    "\n",
    "12. What integers represent the levels of headings available in Word documents?\n",
    "Ans. level is the name of the integer which represents the level of the heading. It can have a value from 1 to 9."
   ]
  }
 ],
 "metadata": {
  "kernelspec": {
   "display_name": "Python 3 (ipykernel)",
   "language": "python",
   "name": "python3"
  },
  "language_info": {
   "codemirror_mode": {
    "name": "ipython",
    "version": 3
   },
   "file_extension": ".py",
   "mimetype": "text/x-python",
   "name": "python",
   "nbconvert_exporter": "python",
   "pygments_lexer": "ipython3",
   "version": "3.9.7"
  }
 },
 "nbformat": 4,
 "nbformat_minor": 5
}
