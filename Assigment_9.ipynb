{
 "cells": [
  {
   "cell_type": "raw",
   "id": "9043b9f8",
   "metadata": {},
   "source": [
    "1. To what does a relative path refer?\n",
    "Ans. Relative path refers to a file or a folder relative to the current directory.\n",
    "\n",
    "2. What does an absolute path start with your operating system?\n",
    "Ans. It starts with the root directory.\n",
    "\n",
    "3. What do the functions os.getcwd() and os.chdir() do?\n",
    "Ans. os.gecwd() obtains the path of the Current Working Directory (cwd). os.chdir() changes the working directory as specified.\n",
    "\n",
    "4. What are the . and .. folders?\n",
    "Ans. These are the folders that are present in the peer directory of the current working directory.\n",
    "\n",
    "5. In C:\\bacon\\eggs\\spam.txt, which part is the dir name, and which part is the base name?\n",
    "Ans. Base is spam.txt\n",
    "     Directory is C:\\bacon\\eggs\n",
    "     \n",
    "6. What are the three “mode” arguments that can be passed to the open() function?\n",
    "Ans. 'r' - reading\n",
    "     'w' - writing\n",
    "     'a' - append\n",
    "     \n",
    "7. What happens if an existing file is opened in write mode?\n",
    "Ans. The file is truncated first.\n",
    "\n",
    "8. How do you tell the difference between read() and readlines()?\n",
    "Ans. read() function reads the complete file at once whereas readlines() read a single line at a time.\n",
    "\n",
    "9. What data structure does a shelf value resemble?\n",
    "Ans. Dictionary."
   ]
  }
 ],
 "metadata": {
  "kernelspec": {
   "display_name": "Python 3 (ipykernel)",
   "language": "python",
   "name": "python3"
  },
  "language_info": {
   "codemirror_mode": {
    "name": "ipython",
    "version": 3
   },
   "file_extension": ".py",
   "mimetype": "text/x-python",
   "name": "python",
   "nbconvert_exporter": "python",
   "pygments_lexer": "ipython3",
   "version": "3.9.7"
  }
 },
 "nbformat": 4,
 "nbformat_minor": 5
}
