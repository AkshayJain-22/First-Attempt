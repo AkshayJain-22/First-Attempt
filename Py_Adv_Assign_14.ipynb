{
 "cells": [
  {
   "cell_type": "raw",
   "id": "92a2c9ca",
   "metadata": {},
   "source": [
    "Q1. Is an assignment operator like += only for show? Is it possible that it would lead to faster results at the runtime?\n",
    "Ans. No, this assigment operator is faster as well saves memory space as it modifies the existing variable and not make a new        one.\n",
    "\n",
    "\n",
    "Q2. What is the smallest number of statements you'd have to write in most programming languages to replace the Python expression a, b = a + b, a?\n",
    "Ans. At least 2. One for declaring the variables with data types.\n",
    "\n",
    "\n",
    "Q3. In Python, what is the most effective way to set a list of 100 integers to 0?\n",
    "Ans. l = [0]*100\n",
    "\n",
    "\n",
    "Q4. What is the most effective way to initialise a list of 99 integers that repeats the sequence 1, 2, 3? S If necessary, show step-by-step instructions on how to accomplish this.\n",
    "Ans.m = []\n",
    "    m+=(i%4 for i in range(1,133) if i%4 != 0)\n",
    "    Since remainders obtained on dividing by 4 can only be 1,2 and 3 and 0 therefore it can give us the required pattern. We         have put a condition inside the list comprehension so that we dont get 0 as output. So every fourth value gets removed.         Therefore we need 133 numbers from 1 to adjust the final range to 99 numbers.\n",
    "\n",
    "Q5. If you're using IDLE to run a Python application, explain how to print a multidimensional list as efficiently?\n",
    "Ans. print(list_name)\n",
    "\n",
    "\n",
    "Q6. Is it possible to use list comprehension with a string? If so, how can you go about doing it?\n",
    "Ans. Yes, it is possoble, eg. k = [i for i in a if i=='e]\n",
    "                              k\n",
    "                      Output: ['e','e','e']\n",
    "\n",
    "Q7. From the command line, how do you get support with a user-written Python programme? Is this possible from inside IDLE?\n",
    "Ans. the help command can get support for a programme. If the user has created the required doc strings.\n",
    "\n",
    "\n",
    "Q8. Functions are said to be “first-class objects” in Python but not in most other languages, such as C++ or Java. What can you do in Python with a function (callable object) that you can't do in C or C++?\n",
    "Ans. A function is an instance of the Object type. You can store the function in a variable, pass the function as a parameter to      another function, return the function from a function, store them in data structures such as hash tables, lists,etc.\n",
    "\n",
    "Q9. How do you distinguish between a wrapper, a wrapped feature, and a decorator?\n",
    "Ans. Wrappers around the functions are also knows as decorators which are a very powerful and useful tool in Python since it          allows programmers to modify the behavior of function or class. Decorators allow us to wrap another function in order to        extend the behavior of the wrapped function, without permanently modifying it\n",
    "\n",
    "\n",
    "Q10. If a function is a generator function, what does it return?\n",
    "Ans. Iterable object.\n",
    "\n",
    "\n",
    "Q11. What is the one improvement that must be made to a function in order for it to become a generator function in the Python language?\n",
    "Ans. Instead of returning the result using return statement yield should be used.\n",
    "\n",
    "\n",
    "Q12. Identify at least one benefit of generators.\n",
    "Ans. Generator functions saves up lot of memory space and help in performing the tasks faster."
   ]
  }
 ],
 "metadata": {
  "kernelspec": {
   "display_name": "Python 3 (ipykernel)",
   "language": "python",
   "name": "python3"
  },
  "language_info": {
   "codemirror_mode": {
    "name": "ipython",
    "version": 3
   },
   "file_extension": ".py",
   "mimetype": "text/x-python",
   "name": "python",
   "nbconvert_exporter": "python",
   "pygments_lexer": "ipython3",
   "version": "3.9.7"
  }
 },
 "nbformat": 4,
 "nbformat_minor": 5
}
