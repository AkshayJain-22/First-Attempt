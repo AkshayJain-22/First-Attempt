{
 "cells": [
  {
   "cell_type": "code",
   "execution_count": null,
   "id": "4ff79144",
   "metadata": {},
   "outputs": [],
   "source": [
    "#1. Write a Python program to find words which are greater than given length k?\n",
    "string = input(\"Enter a string: \")\n",
    "k = int(input(\"Enter the length: \"))\n",
    "l = split(string)\n",
    "for i in l:\n",
    "    if len(i)>k:\n",
    "        print(i)"
   ]
  },
  {
   "cell_type": "code",
   "execution_count": 1,
   "id": "7f33eeac",
   "metadata": {},
   "outputs": [],
   "source": [
    "#2. Write a Python program for removing i-th character from a string?\n",
    "string = input(\"Enter a string: \")\n",
    "k = int(input(\"Enter the index: \"))\n",
    "string.replace(string[k],\"\",k)"
   ]
  },
  {
   "cell_type": "code",
   "execution_count": null,
   "id": "2312a955",
   "metadata": {},
   "outputs": [],
   "source": [
    "#3. Write a Python program to split and join a string?\n",
    "l = split(string)\n",
    "\" \".join(l)"
   ]
  },
  {
   "cell_type": "code",
   "execution_count": null,
   "id": "864fac4d",
   "metadata": {},
   "outputs": [],
   "source": [
    "#4. Write a Python to check if a given string is binary string or not?\n",
    "string = input(\"Enter a string: \")\n",
    "ctr = 0\n",
    "for i in string:\n",
    "    if i =='0' or i == '1':\n",
    "        ctr+=1\n",
    "if ctr == len(string):\n",
    "    print(\"Binary String\")\n",
    "else:\n",
    "    print(\"Not binary\")"
   ]
  },
  {
   "cell_type": "code",
   "execution_count": null,
   "id": "0ad0920d",
   "metadata": {},
   "outputs": [],
   "source": [
    "#5. Write a Python program to find uncommon words from two Strings?\n",
    "string1 = input(\"Enter a string-1: \")\n",
    "string2 = input(\"Enter a string-2: \")\n",
    "l = string1.split()\n",
    "for i in l:\n",
    "    if i in string2:\n",
    "        print(i)\n",
    "        string1 = string1.replace(i,\"\")\n",
    "        string2 = string2.replace(i,\"\")\n",
    "        \n",
    "print(string1.split(),string2.split())"
   ]
  },
  {
   "cell_type": "code",
   "execution_count": null,
   "id": "7017cece",
   "metadata": {},
   "outputs": [],
   "source": [
    "#6. Write a Python to find all duplicate characters in string?\n",
    "string1 = input(\"Enter a string-1: \")\n",
    "string2 = input(\"Enter a string-2: \")\n",
    "l = split(string1)\n",
    "for i in l:\n",
    "    if i not in string2:\n",
    "        string1.replace(i,\"\")\n",
    "split(string1)"
   ]
  },
  {
   "cell_type": "code",
   "execution_count": null,
   "id": "e35e2e7b",
   "metadata": {},
   "outputs": [],
   "source": [
    "#7. Write a Python Program to check if a string contains any special character?\n"
   ]
  }
 ],
 "metadata": {
  "kernelspec": {
   "display_name": "Python 3 (ipykernel)",
   "language": "python",
   "name": "python3"
  },
  "language_info": {
   "codemirror_mode": {
    "name": "ipython",
    "version": 3
   },
   "file_extension": ".py",
   "mimetype": "text/x-python",
   "name": "python",
   "nbconvert_exporter": "python",
   "pygments_lexer": "ipython3",
   "version": "3.9.7"
  }
 },
 "nbformat": 4,
 "nbformat_minor": 5
}
