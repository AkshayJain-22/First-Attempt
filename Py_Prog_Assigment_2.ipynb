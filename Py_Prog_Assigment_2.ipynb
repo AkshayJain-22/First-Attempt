{
 "cells": [
  {
   "cell_type": "code",
   "execution_count": null,
   "id": "7a070372",
   "metadata": {},
   "outputs": [],
   "source": [
    "#1. Write a Python program to convert kilometers to miles?\n",
    "km = float(input(\"Enter length in kms: \"))\n",
    "miles = km/1.609\n",
    "print(\"Miles : \",miles)"
   ]
  },
  {
   "cell_type": "code",
   "execution_count": null,
   "id": "3b5fd846",
   "metadata": {},
   "outputs": [],
   "source": [
    "#2. Write a Python program to convert Celsius to Fahrenheit?\n",
    "Celsius = float(input(\"Enter in Celsius : \"))\n",
    "Fahrenheit = (Celsius*(9)/(5))+32\n",
    "print(\"Fahremheit: \",Fahrenheit)"
   ]
  },
  {
   "cell_type": "code",
   "execution_count": null,
   "id": "306acccb",
   "metadata": {},
   "outputs": [],
   "source": [
    "#3. Write a Python program to display calendar?\n",
    "import calendar\n",
    "\n",
    "yy = int(input(\"Enter year: \"))\n",
    "mm = int(input(\"Enter month: \"))\n",
    "print(calendar.month(yy, mm))"
   ]
  },
  {
   "cell_type": "code",
   "execution_count": null,
   "id": "72ba19e9",
   "metadata": {},
   "outputs": [],
   "source": [
    "#4. Write a Python program to solve quadratic equation?\n",
    "a = float(input('Enter a: '))  \n",
    "b = float(input('Enter b: '))  \n",
    "c = float(input('Enter c: '))  \n",
    "  \n",
    "# calculate the discriminant  \n",
    "d = ((b**2) - (4*a*c))**(1/2) \n",
    "  \n",
    "# find two solutions  \n",
    "sol1 = (-b-(d))/(2*a)  \n",
    "sol2 = (-b+(d))/(2*a)  \n",
    "print('The solution are {0} and {1}'.format(sol1,sol2))"
   ]
  },
  {
   "cell_type": "code",
   "execution_count": null,
   "id": "b4efe907",
   "metadata": {},
   "outputs": [],
   "source": [
    "#5. Write a Python program to swap two variables without temp variable?\n",
    "a = int(input(\"Enter variable A : \"))\n",
    "b = int(input(\"Enter variable B : \"))\n",
    "a = a+b\n",
    "b = a-b\n",
    "a = a-b"
   ]
  }
 ],
 "metadata": {
  "kernelspec": {
   "display_name": "Python 3 (ipykernel)",
   "language": "python",
   "name": "python3"
  },
  "language_info": {
   "codemirror_mode": {
    "name": "ipython",
    "version": 3
   },
   "file_extension": ".py",
   "mimetype": "text/x-python",
   "name": "python",
   "nbconvert_exporter": "python",
   "pygments_lexer": "ipython3",
   "version": "3.9.7"
  }
 },
 "nbformat": 4,
 "nbformat_minor": 5
}
