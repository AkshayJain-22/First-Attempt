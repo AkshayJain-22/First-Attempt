{
 "cells": [
  {
   "cell_type": "raw",
   "id": "37523f37",
   "metadata": {},
   "source": [
    "Q1. What is the purpose of the try statement?\n",
    "Ans. Try will run the code block in which error is expected to occur and prevennts the error from being printed on the console.\n",
    "\n",
    "Q2. What are the two most popular try statement variations?\n",
    "Ans.a) try with except \n",
    "    b) try with except and else\n",
    "    c) try and finally\n",
    "    \n",
    "Q3. What is the purpose of the raise statement?\n",
    "Ans. Raise statement can be used to raise user defined exeptions in a code.\n",
    "\n",
    "\n",
    "Q4. What does the assert statement do, and what other statement is it like?\n",
    "Ans. Assert statements are used to put conditions anywhere in the code. If the condition is true the code proceeds otherwise          raises an assertion error. It is like Raise statements.\n",
    "\n",
    "\n",
    "Q5. What is the purpose of the with/as argument, and what other statement is it like?\n",
    "Ans. With/as statement in Python is used in exception handling. It helps avoiding bugs and leaks by ensuring that a resource is      properly released when the code using the resource is completely executed. Also, program looks simple and sorted as alias        can also be created for attributes with long names. It is like try/except/finally statement."
   ]
  }
 ],
 "metadata": {
  "kernelspec": {
   "display_name": "Python 3 (ipykernel)",
   "language": "python",
   "name": "python3"
  },
  "language_info": {
   "codemirror_mode": {
    "name": "ipython",
    "version": 3
   },
   "file_extension": ".py",
   "mimetype": "text/x-python",
   "name": "python",
   "nbconvert_exporter": "python",
   "pygments_lexer": "ipython3",
   "version": "3.9.7"
  }
 },
 "nbformat": 4,
 "nbformat_minor": 5
}
