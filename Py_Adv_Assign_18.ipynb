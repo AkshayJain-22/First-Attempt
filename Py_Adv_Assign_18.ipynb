{
 "cells": [
  {
   "cell_type": "raw",
   "id": "92a2c9ca",
   "metadata": {},
   "source": [
    "Q1. Describe the differences between text and binary files in a single paragraph.\n",
    "Ans.Binary files are files which stores data in binary format.and the extension of binary files is .bin. Binary files are chock     full of bytes that have values ranging from 0...255.When we talk about text files they store data in the form of alphabets,     numbers, special symbols. The extension of text files is .txt\n",
    "\n",
    "Q2. What are some scenarios where using text files will be the better option? When would you like to\n",
    "use binary files instead of text files?\n",
    "Ans.If the file is to be used for the purpose of text based reading and writing in simple formats with no hassel a text file         should be use.\n",
    "    A binary file would be recommended where the data is to be kept private since humans can not read the file directly.Also, if     data contains various formats like text, audio even videos, binary files would be preffered.\n",
    "\n",
    "Q3. What are some of the issues with using binary operations to read and write a Python integer\n",
    "directly to disc?\n",
    "Ans. Binary operations require bytes-like object type to write. And while reading, the integer might read as a byte-type object      and result in different outcome than expected.\n",
    "\n",
    "Q4. Describe a benefit of using the with keyword instead of explicitly opening a file.\n",
    "Ans. With keyword holds ensures closing the file properly and close() method need not be called explicitly.\n",
    "\n",
    "Q5. Does Python have the trailing newline while reading a line of text? Does Python append a\n",
    "newline when you write a line of text?\n",
    "Ans. Yes, while reading it has trailing new line. No, while writing python does not append a newline character. \n",
    "\n",
    "Q6. What file operations enable for random-access operation?\n",
    "Ans. seek\n",
    "\n",
    "Q7. When do you think you&#39;ll use the struct package the most?\n",
    "Ans.The struct module in Python is used to convert native Python data types such as strings and numbers into a string of bytes       and vice versa. So, if the data is in ordered format, where the length of each data entry is fixed and need to be converted     to binary format struct can be used.\n",
    "\n",
    "Q8. When is pickling the best option?\n",
    "Ans a) Saving a program's state data to disk so that it can carry on where it left off when restarted (persistence)\n",
    "    b) Sending python data over a TCP connection in a multi-core or distributed system (marshalling)\n",
    "    c) Storing python objects in a database\n",
    "\n",
    "Q9. When will it be best to use the shelve package?\n",
    "Ans. The shelve module can be used as a simple persistent storage option for Python objects when a relational database is            overkill.\n",
    "\n",
    "Q10. What is a special restriction when using the shelve package, as opposed to using other data\n",
    "dictionaries?\n",
    "Ans. The shelve module does not support concurrent read/write access to shelved objects. When a program has a shelf open for          writing, no other program should have it open for reading or writing."
   ]
  }
 ],
 "metadata": {
  "kernelspec": {
   "display_name": "Python 3 (ipykernel)",
   "language": "python",
   "name": "python3"
  },
  "language_info": {
   "codemirror_mode": {
    "name": "ipython",
    "version": 3
   },
   "file_extension": ".py",
   "mimetype": "text/x-python",
   "name": "python",
   "nbconvert_exporter": "python",
   "pygments_lexer": "ipython3",
   "version": "3.9.7"
  }
 },
 "nbformat": 4,
 "nbformat_minor": 5
}
