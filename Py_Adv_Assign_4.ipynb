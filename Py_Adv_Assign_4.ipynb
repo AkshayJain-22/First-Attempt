{
 "cells": [
  {
   "cell_type": "raw",
   "id": "ad7ace0f",
   "metadata": {},
   "source": [
    "Q1. Which two operator overloading methods can you use in your classes to support iteration?\n",
    "Ans. __iter__() and __next__()\n",
    "\n",
    "Q2. In what contexts do the two operator overloading methods manage printing?\n",
    "Ans. The __iter__ returns the iterator object and is implicitly called at the start of loops. The __next__ method returns the        next value and is implicitly called at each loop increment. __next__ raises a StopIteration exception when there are no          more value to return, which is implicitly captured by looping constructs to stop iterating. Example:-\n",
    "     class demo:\n",
    "            def __init__(self,a,b):\n",
    "                self.a = a\n",
    "                self.b = b\n",
    "            def __iter__(self):\n",
    "                return self\n",
    "            def __next__(self):\n",
    "                if self.a>self.b:\n",
    "                    raise StopIteration\n",
    "                else:\n",
    "                    self.a+=1\n",
    "                    return self.a-1\n",
    "    \n",
    "      for i in demo(1,5):\n",
    "          print(i)\n",
    "    \n",
    "\n",
    "Q3. In a class, how do you intercept slice operations?\n",
    "Ans. __getslice__() in python 2\n",
    "     __getitem__() since python 3.\n",
    "\n",
    "\n",
    "Q4. In a class, how do you capture in-place addition?\n",
    "Ans Using __iadd__() \n",
    "\n",
    "\n",
    "Q5. When is it appropriate to use operator overloading?\n",
    "Ans. It is appropriate to use operator overloading when operations need to be perfomred on user defined data type (classes) for      which the operators are not predefined."
   ]
  }
 ],
 "metadata": {
  "kernelspec": {
   "display_name": "Python 3 (ipykernel)",
   "language": "python",
   "name": "python3"
  },
  "language_info": {
   "codemirror_mode": {
    "name": "ipython",
    "version": 3
   },
   "file_extension": ".py",
   "mimetype": "text/x-python",
   "name": "python",
   "nbconvert_exporter": "python",
   "pygments_lexer": "ipython3",
   "version": "3.9.7"
  }
 },
 "nbformat": 4,
 "nbformat_minor": 5
}
