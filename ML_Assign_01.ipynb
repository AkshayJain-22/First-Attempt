{
 "cells": [
  {
   "cell_type": "markdown",
   "id": "d1a46147",
   "metadata": {},
   "source": [
    "1. What does one mean by the term 'machine learning'?\n",
    "Ans.It refers to training you machine to solve a particular task using predefined data sets.\n",
    "\n",
    "2.Can you think of 4 distinct types of issues where it shines?\n",
    "a) Navigation\n",
    "b) Spam/Fraud Detection\n",
    "c) Face recognition\n",
    "d) Biosensing\n",
    "\n",
    "3.What is a labeled training set, and how does it work?\n",
    "Ans. A dataset where the feature to be predicted is labelled and so are the contributing features. The data set is divided into test and training sets and the model is made to train itself according to the same. Upon training it is tested against testing data set to check for the accuracy.\n",
    "\n",
    "4.What are the two most important tasks that are supervised?\n",
    "a) Medical Diagnosis\n",
    "b) Spam Detection\n",
    "\n",
    "5.Can you think of four examples of unsupervised tasks?\n",
    "a) Clustering\n",
    "b) Autopilot\n",
    "c) Image classification\n",
    "d) Recommender System\n",
    "\n",
    "6.State the machine learning model that would be best to make a robot walk through various\n",
    "unfamiliar terrains?\n",
    "Ans. Reinforecement Learning\n",
    "\n",
    "7.Which algorithm will you use to divide your customers into different groups?\n",
    "Ans. Classification Algorithms eg. DBScan \n",
    "\n",
    "8.Will you consider the problem of spam detection to be a supervised or unsupervised learning\n",
    "problem?\n",
    "Ans Supervised."
   ]
  }
 ],
 "metadata": {
  "kernelspec": {
   "display_name": "Python 3 (ipykernel)",
   "language": "python",
   "name": "python3"
  },
  "language_info": {
   "codemirror_mode": {
    "name": "ipython",
    "version": 3
   },
   "file_extension": ".py",
   "mimetype": "text/x-python",
   "name": "python",
   "nbconvert_exporter": "python",
   "pygments_lexer": "ipython3",
   "version": "3.9.7"
  }
 },
 "nbformat": 4,
 "nbformat_minor": 5
}
