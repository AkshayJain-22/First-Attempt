{
 "cells": [
  {
   "cell_type": "raw",
   "id": "7c01d3e9",
   "metadata": {},
   "source": [
    "Q1. What is the difference between __getattr__ and __getattribute__?\n",
    "Ans. The __getattr__ method is called when an attribute for an object is not found. Whereas, __getattribute__ is called              for every attribute whether it is defined or not.\n",
    "\n",
    "Q2. What is the difference between properties and descriptors?\n",
    "Ans. Descriptor is a design pattern where we can bind getter, setter (and deleter) functions into a separate class. We then          assign an object of this class to the attribute name. \n",
    "     Properties is a design pattern where we bind getter, setter (and deleter) functions with an attribute name, using the            built-in property function.\n",
    "     \n",
    "Q3. What are the key differences in functionality between __getattr__ and __getattribute__, as well as\n",
    "properties and descriptors?\n",
    "Ans. __getattr__ and __getattribute__ are in-built functions used to assign values to an object's attributes. On the other hand,     Properties and descriptors are design patterns to bind getter and setter functions into a seperate class or attribute name."
   ]
  }
 ],
 "metadata": {
  "kernelspec": {
   "display_name": "Python 3 (ipykernel)",
   "language": "python",
   "name": "python3"
  },
  "language_info": {
   "codemirror_mode": {
    "name": "ipython",
    "version": 3
   },
   "file_extension": ".py",
   "mimetype": "text/x-python",
   "name": "python",
   "nbconvert_exporter": "python",
   "pygments_lexer": "ipython3",
   "version": "3.9.7"
  }
 },
 "nbformat": 4,
 "nbformat_minor": 5
}
