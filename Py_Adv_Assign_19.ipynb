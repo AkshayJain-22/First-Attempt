{
 "cells": [
  {
   "cell_type": "raw",
   "id": "92a2c9ca",
   "metadata": {},
   "source": [
    "Q1. Define the relationship between a class and its instances. Is it a one-to-one or a one-to-many\n",
    "partnership, for example?\n",
    "Ans. An instance belongs to one class but a class can have as many instances.\n",
    "\n",
    "Q2. What kind of data is held only in an instance?\n",
    "Ans. Only the variables.\n",
    "\n",
    "Q3. What kind of knowledge is stored in a class?\n",
    "Ans. Class stores the variables as well as the associated behaviours (methods) of it's instances.\n",
    "\n",
    "Q4. What exactly is a method, and how is it different from a regular function?\n",
    "Ans. A refgular function can be used by any variable that lies in the same scope. But a method is function that belongs to a          class and only the instances of the class can use that function.\n",
    "Q5. Is inheritance supported in Python, and if so, what is the syntax?\n",
    "Ans. Yes. class new_class(inherit_class):\n",
    "\n",
    "Q6. How much encapsulation (making instance or class variables private) does Python support?\n",
    "Ans. Python does not support making private variables inaccessible from outsode the class as other languages but still a              convention is followed where we can make a class variable private using ('_') underscore, but it can be accessed from            outside the class.\n",
    "\n",
    "Q7. How do you distinguish between a class variable and an instance variable?\n",
    "Ans. Class variables are defined inside a class but outside any function whereas, instance variables are defined inside a class      function. \n",
    "\n",
    "Q8. When, if ever, can self be included in a class&#39;s method definitions?\n",
    "Ans. Self should always be included especially if intance variables are to be used.\n",
    "\n",
    "Q9. What is the difference between the _ _add_ _ and the _ _radd_ _ methods?\n",
    "Ans. __add__ treats the operand on the left as a class instanc and tries to solve the stetement.\n",
    "     It will work for obj+4 but will not work for 4+obj since 4 is not a class instance and throws error.\n",
    "     Whereas, __radd__ tries both of the possibilities and gives the answer. \n",
    "     So, it will work for both 4+obj as well as obj+4.\n",
    "\n",
    "Q10. When is it necessary to use a reflection method? When do you not need it, even though you\n",
    "support the operation in question?\n",
    "\n",
    "Q11. What is the _ _iadd_ _ method called?\n",
    "Ans. In place operator.\n",
    "\n",
    "Q12. Is the _ _init_ _ method inherited by subclasses? What do you do if you need to customize its\n",
    "behavior within a subclass?\n",
    "Ans. Yes, __init__ method is also inherited by the subclass. It can be overriden for customization by defining __init__ in the       subclass."
   ]
  }
 ],
 "metadata": {
  "kernelspec": {
   "display_name": "Python 3 (ipykernel)",
   "language": "python",
   "name": "python3"
  },
  "language_info": {
   "codemirror_mode": {
    "name": "ipython",
    "version": 3
   },
   "file_extension": ".py",
   "mimetype": "text/x-python",
   "name": "python",
   "nbconvert_exporter": "python",
   "pygments_lexer": "ipython3",
   "version": "3.9.7"
  }
 },
 "nbformat": 4,
 "nbformat_minor": 5
}
