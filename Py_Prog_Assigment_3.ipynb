{
 "cells": [
  {
   "cell_type": "code",
   "execution_count": null,
   "id": "fd4fbda7",
   "metadata": {},
   "outputs": [],
   "source": [
    "#1.Write a Python Program to Check if a Number is Positive, Negative or Zero?\n",
    "a = int(input(\"Enter the number : \"))\n",
    "if a < 0:\n",
    "    print(\"Negative\")\n",
    "elif a == 0:\n",
    "    print(\"It's Zero\")\n",
    "else:\n",
    "    print(\"Positive\")"
   ]
  },
  {
   "cell_type": "code",
   "execution_count": null,
   "id": "fb9b342e",
   "metadata": {},
   "outputs": [],
   "source": [
    "#2. Write a Python Program to Check if a Number is Odd or Even?\n",
    "a = int(input(\"Enter the number : \"))\n",
    "\n",
    "if a == 0:\n",
    "    print(\"It's Zero\")\n",
    "elif a%2 == 0:\n",
    "    print(\"Even\")\n",
    "else:\n",
    "    print(\"Odd\")"
   ]
  },
  {
   "cell_type": "code",
   "execution_count": null,
   "id": "17bab674",
   "metadata": {},
   "outputs": [],
   "source": [
    "#3. Write a Python Program to Check Leap Year?\n",
    "year = int(input(\"Enter the Year : \"))\n",
    "if year%4 == 0:\n",
    "    print(\"Leap Year!\")\n",
    "else:\n",
    "    print(\"Not a leap Year!\")"
   ]
  },
  {
   "cell_type": "code",
   "execution_count": null,
   "id": "a9341736",
   "metadata": {},
   "outputs": [],
   "source": [
    "#4. Write a Python Program to Check Prime Number?\n",
    "from sympy import isprime\n",
    "\n",
    "a = int(input(\"Enter the number to check: \"))\n",
    "if isprime(a):\n",
    "    print(\"Prime\")\n",
    "else:\n",
    "    print(\"Not Prime\")"
   ]
  },
  {
   "cell_type": "code",
   "execution_count": null,
   "id": "4b2e9ede",
   "metadata": {},
   "outputs": [],
   "source": [
    "#5. Write a Python Program to Print all Prime Numbers in an Interval of 1-10000?\n",
    "for i in range(1,10001):\n",
    "    if isprime(i):\n",
    "        print(i)"
   ]
  }
 ],
 "metadata": {
  "kernelspec": {
   "display_name": "Python 3 (ipykernel)",
   "language": "python",
   "name": "python3"
  },
  "language_info": {
   "codemirror_mode": {
    "name": "ipython",
    "version": 3
   },
   "file_extension": ".py",
   "mimetype": "text/x-python",
   "name": "python",
   "nbconvert_exporter": "python",
   "pygments_lexer": "ipython3",
   "version": "3.9.7"
  }
 },
 "nbformat": 4,
 "nbformat_minor": 5
}
