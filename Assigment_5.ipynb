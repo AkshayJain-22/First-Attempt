{
 "cells": [
  {
   "cell_type": "raw",
   "id": "ea0efed1",
   "metadata": {},
   "source": [
    "1. What does an empty dictionary's code look like?\n",
    "Ans. dict_name={}\n",
    "\n",
    "2. What is the value of a dictionary value with the key 'foo' and the value 42?\n",
    "Ans.42 \n",
    "\n",
    "3. What is the most significant distinction between a dictionary and a list?\n",
    "Ans. A dictionary can only store values in a pairs i.e. a key-value pair. Whereas there is no such requirement in list.\n",
    "  \n",
    "4. What happens if you try to access spam['foo'] if spam is {'bar': 100}?\n",
    "Ans. It will display a key error on the console.\n",
    "\n",
    "5. If a dictionary is stored in spam, what is the difference between the expressions 'cat' in spam and 'cat' in spam.keys()?\n",
    "Ans. It means the same.\n",
    "\n",
    "6. If a dictionary is stored in spam, what is the difference between the expressions 'cat' in spam and 'cat' in spam.values()?\n",
    "Ans. 'cat' in spam checks all the keys of spam if one of them matches 'cat'.\n",
    "     On the other hand, 'cat' in spam.values() checks all the values if one if them matches 'cat'.\n",
    "     \n",
    "7. What is a shortcut for the following code?\n",
    "if 'color' not in spam:\n",
    "spam['color'] = 'black'\n",
    "Ans. spam['color] = 'black'\n",
    "\n",
    "8. How do you \"pretty print\" dictionary values using which module and function?\n",
    "Ans. By using pprint function instead of print fynction from the module pprint.\n",
    "    eg, from pprint import pprint\n",
    "        pprint(dict_name,width=n)\n"
   ]
  }
 ],
 "metadata": {
  "kernelspec": {
   "display_name": "Python 3 (ipykernel)",
   "language": "python",
   "name": "python3"
  },
  "language_info": {
   "codemirror_mode": {
    "name": "ipython",
    "version": 3
   },
   "file_extension": ".py",
   "mimetype": "text/x-python",
   "name": "python",
   "nbconvert_exporter": "python",
   "pygments_lexer": "ipython3",
   "version": "3.9.7"
  }
 },
 "nbformat": 4,
 "nbformat_minor": 5
}
