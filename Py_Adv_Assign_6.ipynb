{
 "cells": [
  {
   "cell_type": "raw",
   "id": "b3a53222",
   "metadata": {},
   "source": [
    "Q1. Describe three applications for exception processing.\n",
    "Ans. try, except and else.\n",
    "\n",
    "\n",
    "Q2. What happens if you don't do something extra to treat an exception?\n",
    "Ans. If any exception is encountered it will stop the execution of the code and display the error in the console.\n",
    "\n",
    "Q3. What are your options for recovering from an exception in your script?\n",
    "Ans. We can keep our code in try and except block to recover from an exception\n",
    "\n",
    "\n",
    "Q4. Describe two methods for triggering exceptions in your script.\n",
    "Ans. Raise Exception and Assert \n",
    "\n",
    "\n",
    "Q5. Identify two methods for specifying actions to be executed at termination time, regardless of whether or not an exception exists.\n",
    "Ans. register() and unregister()"
   ]
  }
 ],
 "metadata": {
  "kernelspec": {
   "display_name": "Python 3 (ipykernel)",
   "language": "python",
   "name": "python3"
  },
  "language_info": {
   "codemirror_mode": {
    "name": "ipython",
    "version": 3
   },
   "file_extension": ".py",
   "mimetype": "text/x-python",
   "name": "python",
   "nbconvert_exporter": "python",
   "pygments_lexer": "ipython3",
   "version": "3.9.7"
  }
 },
 "nbformat": 4,
 "nbformat_minor": 5
}
