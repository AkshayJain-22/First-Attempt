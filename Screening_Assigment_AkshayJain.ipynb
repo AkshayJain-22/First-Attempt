{
 "cells": [
  {
   "cell_type": "markdown",
   "id": "cf23da27",
   "metadata": {},
   "source": [
    "1. Create a function in python to read the text file and replace specific content of the file."
   ]
  },
  {
   "cell_type": "code",
   "execution_count": 65,
   "id": "e309bcbf",
   "metadata": {},
   "outputs": [
    {
     "name": "stdout",
     "output_type": "stream",
     "text": [
      "File edited succesfuly.\n",
      "File Contents:-\n",
      "\u0000\u0000\u0000\u0000\u0000\u0000\u0000\u0000\u0000\u0000\u0000\u0000\u0000\u0000\u0000\u0000\u0000\u0000\u0000\u0000\u0000\u0000\u0000\u0000\u0000\u0000\u0000\u0000\u0000\u0000This is a screening assignment\n"
     ]
    }
   ],
   "source": [
    "#defining function\n",
    "def string_replacer(filename,search_string,replacement):\n",
    "    try:\n",
    "        file = open(filename,'r+')\n",
    "    except Exception as e:\n",
    "        print(\"Error while opening the file: \",e)\n",
    "    else:\n",
    "        contents = file.readlines()\n",
    "        new_text=\"\"\n",
    "        for line in contents:\n",
    "            if (search_string in line):\n",
    "                line = line.replace(search_string,replacement)\n",
    "            new_text+=line\n",
    "        file.truncate(0)\n",
    "        file.writelines(new_text)\n",
    "        file.close()\n",
    "        print(\"File edited succesfuly.\")\n",
    "    \n",
    "#creating the required file\n",
    "filename = 'example.txt'\n",
    "file = open(filename,'w')\n",
    "file.truncate()\n",
    "file.writelines(\"This is a placement assignment\")\n",
    "file.close()\n",
    "\n",
    "#initializing variables\n",
    "search_string=\"placement\"\n",
    "replacement = \"screening\"\n",
    "\n",
    "#calling the function\n",
    "string_replacer(filename,search_string,replacement)\n",
    "\n",
    "#reading the contents of the file\n",
    "try:\n",
    "    file = open(filename,'r')\n",
    "except Exception as e:\n",
    "    print(\"Error while reading the file: \",e)\n",
    "else:\n",
    "    print(\"File Contents:-\")\n",
    "    contents = file.readlines()\n",
    "    for i in contents:\n",
    "        print(i)\n",
    "    file.close()"
   ]
  },
  {
   "cell_type": "markdown",
   "id": "a399ad66",
   "metadata": {},
   "source": [
    "2. Demonstrate use of abstract class, multiple inheritance and decorator in python using examples."
   ]
  },
  {
   "cell_type": "markdown",
   "id": "8b8d2609",
   "metadata": {},
   "source": [
    "Ans. Abstract classes are the classes which are used as templates only and are not allowed to instantiate directly. They have feauteres which we might want every other class to have. A class becomes abstract when it has one or more abstract methods. They can be implemented using the python module abc which provides a base for defining abstract class-ABC (Abstract Base Class). Example,"
   ]
  },
  {
   "cell_type": "code",
   "execution_count": 66,
   "id": "56f256ce",
   "metadata": {},
   "outputs": [
    {
     "name": "stdout",
     "output_type": "stream",
     "text": [
      "I live in America\n",
      "I live in India\n",
      "I live in China\n",
      "Error:  Can't instantiate abstract class Human with abstract method place\n"
     ]
    }
   ],
   "source": [
    "from abc import ABC, abstractmethod\n",
    "\n",
    "class Human(ABC):\n",
    "    @abstractmethod\n",
    "    def place(self):  #only being used as a blueprint\n",
    "        pass\n",
    "    \n",
    "class American(Human):\n",
    "    def place(self): #overriding the features\n",
    "        print(\"I live in America\")\n",
    "        \n",
    "class Indian(Human):\n",
    "    def place(self): #overriding the features\n",
    "        print(\"I live in India\")\n",
    "        \n",
    "class Chinese(Human):\n",
    "    def place(self): #overriding the features\n",
    "        print(\"I live in China\")\n",
    "        \n",
    "        \n",
    "American = American()\n",
    "American.place()\n",
    "\n",
    "Indian = Indian()\n",
    "Indian.place()\n",
    "\n",
    "Chinese = Chinese()\n",
    "Chinese.place()\n",
    "\n",
    "try:\n",
    "    Human = Human() #this will produce error as it is not allowed to be instantiated\n",
    "except Exception as e:\n",
    "    print(\"Error: \",e)"
   ]
  },
  {
   "cell_type": "markdown",
   "id": "6d7e21d1",
   "metadata": {},
   "source": [
    "Multiple Inheritance: When a class inherits from more than one class its called multiple inheritance. Its highly useful since the child class gets the features of voth the base classes. Example,"
   ]
  },
  {
   "cell_type": "code",
   "execution_count": 70,
   "id": "00e68289",
   "metadata": {},
   "outputs": [
    {
     "name": "stdout",
     "output_type": "stream",
     "text": [
      "I am not a human\n",
      "I can be kept at home\n",
      "I love Pedigree!\n"
     ]
    }
   ],
   "source": [
    "class Animal():\n",
    "    def is_human(self):\n",
    "        print(\"I am not a human\")\n",
    "        \n",
    "class Pet():\n",
    "    def habitat(self):\n",
    "        print(\"I can be kept at home\")\n",
    "\n",
    "class Wild():\n",
    "    def habitat(self):\n",
    "        print(\"Not to bring me home\")\n",
    "        \n",
    "class dogs(Animal,Pet): #it is inheriting features from both Animal as well as Pets class\n",
    "    def food(self):\n",
    "        print(\"I love Pedigree!\")\n",
    "\n",
    "dog = dogs()\n",
    "\n",
    "#it has the features from bith the base classes\n",
    "dog.is_human()\n",
    "dog.habitat()\n",
    "dog.food()"
   ]
  },
  {
   "cell_type": "markdown",
   "id": "fcf29030",
   "metadata": {},
   "source": [
    "Decorators: They are the functions that are used to modify/add to the behaviour of another function wothout making permanent changes to the latter. Example:"
   ]
  },
  {
   "cell_type": "code",
   "execution_count": 71,
   "id": "72cc9940",
   "metadata": {},
   "outputs": [
    {
     "name": "stdout",
     "output_type": "stream",
     "text": [
      "See we added a print statement before the fucntion\n",
      "This has just one print statement\n"
     ]
    }
   ],
   "source": [
    "def hello_decorator(func):\n",
    "    def modification():\n",
    "        print(\"See we added a print statement before the fucntion\")\n",
    "        func()\n",
    "    return(modification)\n",
    "@hello_decorator\n",
    "def original_func():\n",
    "    print(\"This has just one print statement\")\n",
    "    \n",
    "original_func()"
   ]
  },
  {
   "cell_type": "markdown",
   "id": "c86a7169",
   "metadata": {},
   "source": [
    "Similarly various functionalities can be added to the initial function and see that no code is edited inside the original function\n",
    "        "
   ]
  }
 ],
 "metadata": {
  "kernelspec": {
   "display_name": "Python 3 (ipykernel)",
   "language": "python",
   "name": "python3"
  },
  "language_info": {
   "codemirror_mode": {
    "name": "ipython",
    "version": 3
   },
   "file_extension": ".py",
   "mimetype": "text/x-python",
   "name": "python",
   "nbconvert_exporter": "python",
   "pygments_lexer": "ipython3",
   "version": "3.9.7"
  }
 },
 "nbformat": 4,
 "nbformat_minor": 5
}
