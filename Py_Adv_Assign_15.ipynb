{
 "cells": [
  {
   "cell_type": "raw",
   "id": "92a2c9ca",
   "metadata": {},
   "source": [
    "1. What are the new features added in Python 3.8 version?\n",
    "Ans. There are many new features. Some are listed below,\n",
    "    a) new syntax := 'the walrus operator'\n",
    "    b) Positional-only parameters def func(a,b,/,c,d,*,e,f)\n",
    "    and many more.\n",
    "    \n",
    "2. What is monkey patching in Python?\n",
    "Ans. In Python, the term monkey patch refers to dynamic (or run-time) modifications of a class or module.\n",
    "\n",
    "3. What is the difference between a shallow copy and deep copy?\n",
    "Ans. In case of shallow copy, a reference of object is copied in other object. It means that any changes made to a copy of            object gets reflected in the original object. Whereas, in deep copy, a new object is created and the values are                  recursively copied inside the new object. So any changes made in the old object will not be reflected in the new one.\n",
    "\n",
    "4. What is the maximum possible length of an identifier?\n",
    "Ans. 79 characters\n",
    "\n",
    "5. What is generator comprehension?\n",
    "Ans. A generator comprehension is a single-line specification for defining a generator in Python. \n",
    "     (<expression> for <var> in <iterable> [if <condition>])\n"
   ]
  }
 ],
 "metadata": {
  "kernelspec": {
   "display_name": "Python 3 (ipykernel)",
   "language": "python",
   "name": "python3"
  },
  "language_info": {
   "codemirror_mode": {
    "name": "ipython",
    "version": 3
   },
   "file_extension": ".py",
   "mimetype": "text/x-python",
   "name": "python",
   "nbconvert_exporter": "python",
   "pygments_lexer": "ipython3",
   "version": "3.9.7"
  }
 },
 "nbformat": 4,
 "nbformat_minor": 5
}
