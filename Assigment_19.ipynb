{
 "cells": [
  {
   "cell_type": "raw",
   "id": "1976a7c3",
   "metadata": {},
   "source": [
    "1. Make a class called Thing with no contents and print it. Then, create an object called example from this class and also print it. Are the printed values the same or different?\n",
    "Ans. printing Thing gives : <class '__main__.Thing'>\n",
    "     printing it's object : <__main__.Thing object at 0x00000283FF63C340>\n",
    "     \n",
    "2. Create a new class called Thing2 and add the value 'abc' to the letters class attribute. Letters should be printed.\n",
    "Ans. class thing2:\n",
    "         letters = 'abc'\n",
    "     print(thing2.letters)\n",
    "Output: abc\n",
    "    \n",
    "3. Make yet another class called, of course, Thing3. This time, assign the value 'xyz' to an instance (object) attribute called letters. Print letters. Do you need to make an object from the class to do this?\n",
    "Ans. class Things3:\n",
    "           def __init__(self,letters):\n",
    "               self.letters = letters\n",
    "     a = a = Things3('abc')\n",
    "     print(a.letters)\n",
    "     Yes, an object needs to be created otherwise it shows an AttributeError.\n",
    "     \n",
    "4. Create an Element class with the instance attributes name, symbol, and number. Create a class object with the values 'Hydrogen,' 'H,' and 1.\n",
    "Ans.class Elements:\n",
    "        def __init__(self,name,symbol,number):\n",
    "            self.name=name\n",
    "            self.symbol=symbol\n",
    "            self.number=number\n",
    "    element = Elements('Hydrogen','H',1)\n",
    "\n",
    "5. Make a dictionary with these keys and values: 'name': 'Hydrogen', 'symbol': 'H', 'number': 1. Then, create an object called hydrogen from class Element using this dictionary.\n",
    "Ans. dic = {'name': 'Hydrogen', 'symbol': 'H', 'number': 1}\n",
    "     element2 = Elements(dic['name'],dic['symbol'],dic['number'])\n",
    "     \n",
    "6. For the Element class, define a method called dump() that prints the values of the object’s attributes (name, symbol, and number). Create the hydrogen object from this new definition and use dump() to print its attributes.\n",
    "Ans. "
   ]
  },
  {
   "cell_type": "code",
   "execution_count": 1,
   "id": "c7ee585d",
   "metadata": {},
   "outputs": [],
   "source": [
    "class Elements:\n",
    "    def __init__(self,name,symbol,number):\n",
    "        self.name=name\n",
    "        self.symbol=symbol\n",
    "        self.number=number\n",
    "    def dump(self):\n",
    "        print(\"Name: \",self.name)\n",
    "        print(\"Symbol: \",self.symbol)\n",
    "        print(\"Number: \",self.number)\n",
    "        \n",
    "element = Elements('Hydrogen','H',1)\n",
    "element.dump()"
   ]
  },
  {
   "cell_type": "raw",
   "id": "a617bdee",
   "metadata": {},
   "source": [
    "7. Call print(hydrogen). In the definition of Element, change the name of method dump to __str__, create a new hydrogen object, and call print(hydrogen) again.\n",
    "Ans. With old definition : <__main__.Elements object at 0x00000283FFD05700>\n",
    "     With __str__ method : Name:  Hydrogen\n",
    "                           Symbol:  H\n",
    "                           Number:  1\n",
    "8. Modify Element to make the attributes name, symbol, and number private. Define a getter property for each to return its value."
   ]
  },
  {
   "cell_type": "code",
   "execution_count": null,
   "id": "d2529be4",
   "metadata": {},
   "outputs": [],
   "source": [
    "#Ans.\n",
    "class Elements:\n",
    "    def __init__(self,name,symbol,number):\n",
    "        self._name=name\n",
    "        self._symbol=symbol\n",
    "        self._number=number\n",
    "    def __str__(self):\n",
    "        print(\"Name: \",self._name)\n",
    "        print(\"Symbol: \",self._symbol)\n",
    "        print(\"Number: \",self._number)\n",
    "    def getname(self):\n",
    "        print(self._name)\n",
    "    def getsymbol(self):\n",
    "        print(self._symbol)\n",
    "    def getnumber(self):\n",
    "        print(self._number)\n"
   ]
  },
  {
   "cell_type": "raw",
   "id": "4d91d59d",
   "metadata": {},
   "source": [
    "9. Define three classes: Bear, Rabbit, and Octothorpe. For each, define only one method: eats(). This should return 'berries' (Bear), 'clover' (Rabbit), or 'campers' (Octothorpe). Create one object from each and print what it eats."
   ]
  },
  {
   "cell_type": "code",
   "execution_count": 6,
   "id": "34a3eb01",
   "metadata": {
    "scrolled": true
   },
   "outputs": [
    {
     "name": "stdout",
     "output_type": "stream",
     "text": [
      "berries\n",
      "clover\n",
      "campers\n"
     ]
    }
   ],
   "source": [
    "#Ans\n",
    "class Bear:\n",
    "    def eats(self):\n",
    "        return('berries')\n",
    "    \n",
    "class Rabbit:\n",
    "    def eats(self):\n",
    "        return('clover')\n",
    "    \n",
    "class Octothorpe:\n",
    "    def eats(self):\n",
    "        return('campers')\n",
    "\n",
    "bear = Bear()\n",
    "print(bear.eats())\n",
    "\n",
    "rabbit = Rabbit()\n",
    "print(rabbit.eats())\n",
    "\n",
    "octothorpe = Octothorpe()\n",
    "print(octothorpe.eats())"
   ]
  },
  {
   "cell_type": "raw",
   "id": "2ae564cc",
   "metadata": {},
   "source": [
    "10. Define these classes: Laser, Claw, and SmartPhone. Each has only one method: does(). This returns 'disintegrate' (Laser), 'crush' (Claw), or 'ring' (SmartPhone). Then, define the class Robot that has one instance (object) of each of these. Define a does() method for the Robot that prints what its component objects do."
   ]
  },
  {
   "cell_type": "code",
   "execution_count": 36,
   "id": "4f5ef953",
   "metadata": {},
   "outputs": [
    {
     "name": "stdout",
     "output_type": "stream",
     "text": [
      "disintegrate\n",
      "crush\n",
      "ring\n"
     ]
    }
   ],
   "source": [
    "#Ans.\n",
    "class Laser:\n",
    "    def does():\n",
    "        return('disintegrate')\n",
    "\n",
    "class Claw:\n",
    "    def does():\n",
    "        return(\"crush\")\n",
    "\n",
    "class Smartphone:\n",
    "    def does():\n",
    "        return(\"ring\")\n",
    "\n",
    "class Robot(Laser,Claw,Smartphone):\n",
    "    def does(self):\n",
    "        print(Laser.does())\n",
    "        print(Claw.does())\n",
    "        print(Smartphone.does())\n",
    "\n",
    "robot = Robot()        \n",
    "robot.does()        "
   ]
  },
  {
   "cell_type": "code",
   "execution_count": null,
   "id": "b4368498",
   "metadata": {},
   "outputs": [],
   "source": []
  }
 ],
 "metadata": {
  "kernelspec": {
   "display_name": "Python 3 (ipykernel)",
   "language": "python",
   "name": "python3"
  },
  "language_info": {
   "codemirror_mode": {
    "name": "ipython",
    "version": 3
   },
   "file_extension": ".py",
   "mimetype": "text/x-python",
   "name": "python",
   "nbconvert_exporter": "python",
   "pygments_lexer": "ipython3",
   "version": "3.9.7"
  }
 },
 "nbformat": 4,
 "nbformat_minor": 5
}
