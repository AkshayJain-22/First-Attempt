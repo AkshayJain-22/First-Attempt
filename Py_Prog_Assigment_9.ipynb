{
 "cells": [
  {
   "cell_type": "code",
   "execution_count": null,
   "id": "4ff79144",
   "metadata": {},
   "outputs": [],
   "source": [
    "#1. Write a Python program to check if the given number is a Disarium Number?\n",
    "n = input(\"Enter a number: \")\n",
    "total = 0\n",
    "for i in range(0,len(n)):\n",
    "    num = int(n)//(10**i)\n",
    "    rem = num%(10)\n",
    "    rem = rem**(len(n)-i)\n",
    "    total += rem\n",
    "if(total == int(n)):\n",
    "    print(\"Disarium Number!\")\n",
    "else:\n",
    "    print(\"Not Disarium\")"
   ]
  },
  {
   "cell_type": "code",
   "execution_count": 1,
   "id": "7f33eeac",
   "metadata": {},
   "outputs": [],
   "source": [
    "#2. Write a Python program to print all disarium numbers between 1 to 100?\n",
    "for j in range(1,101):\n",
    "    for i in range(len(str(i))):\n",
    "        num = j//(10**i)\n",
    "        rem = num%(10)\n",
    "        rem = rem**(len(str(j)-i)\n",
    "        total += rem\n",
    "    if(total == j):\n",
    "        print(\"Disarium Number!: \",j)"
   ]
  },
  {
   "cell_type": "code",
   "execution_count": null,
   "id": "2312a955",
   "metadata": {},
   "outputs": [],
   "source": [
    "#3. Write a Python program to check if the given number is Happy Number?\n",
    "for j in range(1,101):\n",
    "    total = 0\n",
    "    for i in range(len(str(j))):\n",
    "        num = j//(10**i)\n",
    "        rem = num%(10)\n",
    "        rem = rem**(len(str(j))-i)\n",
    "        total += rem\n",
    "    if(total == j):\n",
    "        print(\"Disarium Number!: \",j)"
   ]
  },
  {
   "cell_type": "code",
   "execution_count": null,
   "id": "864fac4d",
   "metadata": {},
   "outputs": [],
   "source": [
    "#4. Write a Python program to print all happy numbers between 1 and 100?\n",
    "for j in range(101):\n",
    "    n = str(j)\n",
    "    new = n\n",
    "    total = 0\n",
    "    l=[]\n",
    "    while total not in l:\n",
    "        l.append(total)\n",
    "        quo = int(new)\n",
    "        total = 0\n",
    "        for i in range(len(new)):\n",
    "            rem = quo%(10)\n",
    "            total += rem**2\n",
    "            quo//=10\n",
    "        if(total==1):\n",
    "            print(n)\n",
    "            break\n",
    "        else:\n",
    "            new = str(total)"
   ]
  },
  {
   "cell_type": "code",
   "execution_count": null,
   "id": "0ad0920d",
   "metadata": {},
   "outputs": [],
   "source": [
    "#5. Write a Python program to determine whether the given number is a Harshad Number?\n",
    "num = input(\"Enter a number: \")\n",
    "total = 0\n",
    "quo = int(num)\n",
    "for i in range(len(num)):\n",
    "    rem = quo%10\n",
    "    total+=rem\n",
    "    quo//=10\n",
    "if(int(num)%total==0):\n",
    "    print(\"Harshad number\")\n",
    "else:\n",
    "    print(\"Not a Harshad number\")"
   ]
  },
  {
   "cell_type": "code",
   "execution_count": null,
   "id": "7017cece",
   "metadata": {},
   "outputs": [],
   "source": [
    "#6. Write a Python program to print all pronic numbers between 1 and 100?\n",
    "for i in range(1,101):\n",
    "    j=1\n",
    "    while (j<i):\n",
    "        if (i==(j*(j+1))):\n",
    "            print(i)\n",
    "            break\n",
    "        else:\n",
    "            j+=1"
   ]
  }
 ],
 "metadata": {
  "kernelspec": {
   "display_name": "Python 3 (ipykernel)",
   "language": "python",
   "name": "python3"
  },
  "language_info": {
   "codemirror_mode": {
    "name": "ipython",
    "version": 3
   },
   "file_extension": ".py",
   "mimetype": "text/x-python",
   "name": "python",
   "nbconvert_exporter": "python",
   "pygments_lexer": "ipython3",
   "version": "3.9.7"
  }
 },
 "nbformat": 4,
 "nbformat_minor": 5
}
