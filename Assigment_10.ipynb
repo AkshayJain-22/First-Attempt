{
 "cells": [
  {
   "cell_type": "raw",
   "id": "9043b9f8",
   "metadata": {},
   "source": [
    "1.How do you distinguish between shutil.copy() and shutil.copytree()?\n",
    "Ans. shutil.copy() only copies files from any given source directory. Whereas shutil.copytree() copies the complete directory including subfolders.\n",
    "\n",
    "2. What function is used to rename files??\n",
    "Ans. os.rename()\n",
    "\n",
    "3. What is the difference between the delete functions in the send2trash and shutil modules?\n",
    "Ans. delete function permanently deletes a file/directory. Whereas, send2trash sends the file/directory to recycle bin from where it can be retrieved if needed.\n",
    "\n",
    "4.ZipFile objects have a close() method just like File objects’ close() method. What ZipFile method is equivalent to File objects’ open() method?\n",
    "Ans. open()\n",
    "\n",
    "5. Create a programme that searches a folder tree for files with a certain file extension (such as .pdf or .jpg). Copy these files from whatever location they are in to a new folder.\n",
    "Ans:-"
   ]
  },
  {
   "cell_type": "code",
   "execution_count": 68,
   "id": "ad9ea177",
   "metadata": {},
   "outputs": [],
   "source": [
    "import string \n",
    "import os\n",
    "import shutil\n",
    "\n",
    "#--------------------------------------------------------------------------------------#\n",
    "def search(curr_dir): #function searches complete tree begining from the base directory\n",
    "    try :\n",
    "        os.chdir(curr_dir)\n",
    "    except :\n",
    "        print(\"Error opening: \"+curr_dir)\n",
    "    else:\n",
    "        for i in os.listdir():\n",
    "            path=curr_dir+i\n",
    "            if os.path.exists(path+\"\\\\\"):\n",
    "                search(path+\"\\\\\")\n",
    "            elif ext in i:\n",
    "                print(\"Found file: \" + i + \" at \"+ path )\n",
    "                shutil.move(path,des)\n",
    "#--------------------------------------------------------------------------------------#\n",
    "\n",
    "base = input(\"Enter the base directory (like C,D,etc): \")\n",
    "ext = input(\"Enter any extension (eg .jpg): \")\n",
    "des = input(\"Enter the destination directory path: \")\n",
    "\n",
    "#incase user entered complete path\n",
    "base=base.split(':')\n",
    "base_directory = base[0] + \":\\\\\"\n",
    "\n",
    "search(base_directory)\n"
   ]
  }
 ],
 "metadata": {
  "kernelspec": {
   "display_name": "Python 3 (ipykernel)",
   "language": "python",
   "name": "python3"
  },
  "language_info": {
   "codemirror_mode": {
    "name": "ipython",
    "version": 3
   },
   "file_extension": ".py",
   "mimetype": "text/x-python",
   "name": "python",
   "nbconvert_exporter": "python",
   "pygments_lexer": "ipython3",
   "version": "3.9.7"
  }
 },
 "nbformat": 4,
 "nbformat_minor": 5
}
