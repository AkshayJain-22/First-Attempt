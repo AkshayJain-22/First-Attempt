{
 "cells": [
  {
   "cell_type": "raw",
   "id": "a16ab479",
   "metadata": {},
   "source": [
    "Question 1:\n",
    "Please write a program using generator to print the numbers which can be divisible by 5 and 7 between 0 and n in comma separated form while n is input by console.\n",
    "Example:\n",
    "If the following n is given as input to the program:\n",
    "100\n",
    "Then, the output of the program should be:\n",
    "0,35,70"
   ]
  },
  {
   "cell_type": "code",
   "execution_count": null,
   "id": "e800c464",
   "metadata": {},
   "outputs": [],
   "source": [
    "l=[]\n",
    "def divisible(n):\n",
    "    for i in range(n):\n",
    "        if i%(5*7)==0:\n",
    "            yield i\n",
    "    \n",
    "n = int(input(\"Enter n: \"))\n",
    "for i in divisible(n):\n",
    "    print(i,end=\",\")"
   ]
  },
  {
   "cell_type": "raw",
   "id": "9cd25a2f",
   "metadata": {},
   "source": [
    "Question 2:\n",
    "Please write a program using generator to print the even numbers between 0 and n in comma\n",
    "separated form while n is input by console.\n",
    "Example:\n",
    "If the following n is given as input to the program:\n",
    "10\n",
    "Then, the output of the program should be:\n",
    "0,2,4,6,8,10"
   ]
  },
  {
   "cell_type": "code",
   "execution_count": null,
   "id": "5c450ef8",
   "metadata": {},
   "outputs": [],
   "source": [
    "def even(n):\n",
    "    for i in range(n):\n",
    "        if i%2==0:\n",
    "            yield i\n",
    "n = int(input(\"Enter n: \"))\n",
    "for i in even(n):\n",
    "    print(i,end=\",\")"
   ]
  },
  {
   "cell_type": "raw",
   "id": "ecff5283",
   "metadata": {},
   "source": [
    "Question 3:\n",
    "The Fibonacci Sequence is computed based on the following formula:\n",
    "f(n)=0 if n=0\n",
    "f(n)=1 if n=1\n",
    "f(n)=f(n-1)+f(n-2) if n&gt;1\n",
    "Please write a program using list comprehension to print the Fibonacci Sequence in comma\n",
    "separated form with a given n input by console.\n",
    "Example:\n",
    "If the following n is given as input to the program:\n",
    "7\n",
    "\n",
    "Then, the output of the program should be:\n",
    "0,1,1,2,3,5,8,13"
   ]
  },
  {
   "cell_type": "code",
   "execution_count": null,
   "id": "95b59ac0",
   "metadata": {},
   "outputs": [],
   "source": [
    "def Phi(num):\n",
    "    n = [1,1]\n",
    "    [n.append(n[i-2]+n[i-1])for i in range(2,num)]\n",
    "    return n\n",
    "n = int(input(\"Enter the number : \"))\n",
    "for i in Phi(n):\n",
    "    print(i,end=',')"
   ]
  },
  {
   "cell_type": "raw",
   "id": "b980f512",
   "metadata": {},
   "source": [
    "Question 4:\n",
    "Assuming that we have some email addresses in the &quot;username@companyname.com&quot; format, please write program to print the user name of a given email address. Both user names and company names are composed of letters only.\n",
    "Example:\n",
    "If the following email address is given as input to the program:\n",
    "john@google.com\n",
    "Then, the output of the program should be:\n",
    "john"
   ]
  },
  {
   "cell_type": "code",
   "execution_count": null,
   "id": "0da3c66b",
   "metadata": {},
   "outputs": [],
   "source": [
    "email = input(\"Enter the email: \")\n",
    "username = email.split('@')\n",
    "print(username)"
   ]
  },
  {
   "cell_type": "raw",
   "id": "f25a6cc9",
   "metadata": {},
   "source": [
    "Question 5:\n",
    "Define a class named Shape and its subclass Square. The Square class has an init function\n",
    "which takes a length as argument. Both classes have a area function which can print the area\n",
    "of the shape where Shape&#39;s area is 0 by default."
   ]
  },
  {
   "cell_type": "code",
   "execution_count": null,
   "id": "a14529f1",
   "metadata": {},
   "outputs": [],
   "source": [
    "class Shape():\n",
    "    def area(self):\n",
    "        print(0)\n",
    "class Square(Shape):\n",
    "    def __init__(self):\n",
    "        self.len = int(input(\"Enter the length: \"))\n",
    "    def area(self):\n",
    "        print(self.len**2)"
   ]
  }
 ],
 "metadata": {
  "kernelspec": {
   "display_name": "Python 3 (ipykernel)",
   "language": "python",
   "name": "python3"
  },
  "language_info": {
   "codemirror_mode": {
    "name": "ipython",
    "version": 3
   },
   "file_extension": ".py",
   "mimetype": "text/x-python",
   "name": "python",
   "nbconvert_exporter": "python",
   "pygments_lexer": "ipython3",
   "version": "3.9.7"
  }
 },
 "nbformat": 4,
 "nbformat_minor": 5
}
