{
 "cells": [
  {
   "cell_type": "raw",
   "id": "92a2c9ca",
   "metadata": {},
   "source": [
    "Q1. Does assigning a value to a string's indexed character violate Python's string immutability?\n",
    "Ans. Yes\n",
    "\n",
    "Q2. Does using the += operator to concatenate strings violate Python's string immutability? Why or why not?\n",
    "Ans. No, because we are not mutatimg already available data inside the string. We are reassigning it with a new data altogether      which is the concatenation of previous data and new data.\n",
    "\n",
    "\n",
    "Q3. In Python, how many different ways are there to index a character?\n",
    "Ans. By mentioning the index number in sqaure brackets after the string name. \n",
    "     a = 'abcde'\n",
    "     a[2]\n",
    "Output: 'c'\n",
    "\n",
    "Q4. What is the relationship between indexing and slicing?\n",
    "Ans. Both of them are used to display characters of a string based on the input provided inside the square brackets following        sring name. \n",
    "\n",
    "\n",
    "Q5. What is an indexed character's exact data type? What is the data form of a slicing-generated substring?\n",
    "Ans. indexed character's exact data type is 'str'. Data form of a slicing-generated substring is also a string with type 'str'.\n",
    "\n",
    "\n",
    "Q6. What is the relationship between string and character \"types\" in Python?\n",
    "Ans. A series of characters stored under acommon name at continuous memory location forms a string. So string is nothing but a        group/series of characters.\n",
    "\n",
    "\n",
    "Q7. Identify at least two operators and one method that allow you to combine one or more smaller strings to create a larger string.\n",
    "Ans. Operators = '+','*'\n",
    "     Method = join()\n",
    "\n",
    "\n",
    "Q8. What is the benefit of first checking the target string with in or not in before using the index method to find a substring?\n",
    "Ans. The in operator is the easiest and pythonic way to check if a python string contains a substring. The in and not in are          membership operators, they take in two arguments and evaluate if one is a member of the other. It is much easier and short      to write as compared to index method as the latter requires us to write loops on our own.\n",
    "\n",
    "\n",
    "Q9. Which operators and built-in string methods produce simple Boolean (true/false) results?\n",
    "Ans. All built-in string methods beginning with 'is' return boolean results. eg. isupper(), islower(), issapce, etc.\n",
    "     Relational Operators also return booleas results: >= ,<=, <,>,==,!=,etc."
   ]
  }
 ],
 "metadata": {
  "kernelspec": {
   "display_name": "Python 3 (ipykernel)",
   "language": "python",
   "name": "python3"
  },
  "language_info": {
   "codemirror_mode": {
    "name": "ipython",
    "version": 3
   },
   "file_extension": ".py",
   "mimetype": "text/x-python",
   "name": "python",
   "nbconvert_exporter": "python",
   "pygments_lexer": "ipython3",
   "version": "3.9.7"
  }
 },
 "nbformat": 4,
 "nbformat_minor": 5
}
