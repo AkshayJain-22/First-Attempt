{
 "cells": [
  {
   "cell_type": "code",
   "execution_count": null,
   "id": "4ff79144",
   "metadata": {},
   "outputs": [],
   "source": [
    "#1.Write a Python Program to find sum of array?\n",
    "total = 0\n",
    "for i in array:\n",
    "    total+=i\n",
    "print(total)"
   ]
  },
  {
   "cell_type": "code",
   "execution_count": null,
   "id": "7f33eeac",
   "metadata": {},
   "outputs": [],
   "source": [
    "#2. Write a Python Program to find largest element in an array?\n",
    "array = [1,2,3,4,5,6,7,8,9]\n",
    "largest = 0\n",
    "for i in array:\n",
    "    if(i>largest):\n",
    "        largest = i\n",
    "print(largest)"
   ]
  },
  {
   "cell_type": "code",
   "execution_count": null,
   "id": "2312a955",
   "metadata": {},
   "outputs": [],
   "source": [
    "#3. Write a Python Program for array rotation?\n",
    "array = [1,2,3,4,5,6,7,8,9]\n",
    "last = len(array)\n",
    "for i in range(last//2):\n",
    "    temp = array[i]\n",
    "    array[i] = array[last-1-i]\n",
    "    array[last-1-i] = temp\n",
    "print(array)"
   ]
  },
  {
   "cell_type": "code",
   "execution_count": null,
   "id": "864fac4d",
   "metadata": {},
   "outputs": [],
   "source": [
    "#4. Write a Python Program to Split the array and add the first part to the end?\n",
    "array = [1,2,3,4,5,6,7,8,9,10]\n",
    "mid = len(array)//2\n",
    "array_one = array[0:mid]\n",
    "array_two = array[mid+1:mid*2]\n",
    "array = array_two + array_one"
   ]
  },
  {
   "cell_type": "code",
   "execution_count": null,
   "id": "0ad0920d",
   "metadata": {},
   "outputs": [],
   "source": [
    "#5. Write a Python Program to check if given array is Monotonic?\n",
    "inc = 0\n",
    "dec = 0\n",
    "for i in range(len(array)-2):\n",
    "    if (array[i]>array[i+1]):\n",
    "        inc+=1\n",
    "    elif (array[i]<array[i+1]):\n",
    "        dec+=1\n",
    "if (inc == len(array)-2) or (dec == len(array)-2):\n",
    "    print (\"Monotonic\")\n",
    "else:\n",
    "    print(\"Not Monotonic\")"
   ]
  }
 ],
 "metadata": {
  "kernelspec": {
   "display_name": "Python 3 (ipykernel)",
   "language": "python",
   "name": "python3"
  },
  "language_info": {
   "codemirror_mode": {
    "name": "ipython",
    "version": 3
   },
   "file_extension": ".py",
   "mimetype": "text/x-python",
   "name": "python",
   "nbconvert_exporter": "python",
   "pygments_lexer": "ipython3",
   "version": "3.9.7"
  }
 },
 "nbformat": 4,
 "nbformat_minor": 5
}
