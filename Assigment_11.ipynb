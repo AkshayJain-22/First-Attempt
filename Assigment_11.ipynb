{
 "cells": [
  {
   "cell_type": "code",
   "execution_count": null,
   "id": "24b1e0b8",
   "metadata": {},
   "outputs": [],
   "source": [
    "#1. Create an assert statement that throws an AssertionError if the variable spam is a negative integer.\n",
    "spam=int(input(\"Enter an integer from spam: \"))\n",
    "assert spam>0 , 'Spam is less than 0'\n",
    "print(\"You are good to go\")"
   ]
  },
  {
   "cell_type": "code",
   "execution_count": null,
   "id": "67ca3681",
   "metadata": {},
   "outputs": [],
   "source": [
    "#2. Write an assert statement that triggers an AssertionError if the variables eggs and bacon contain strings that are the same as each other, even if their cases are different (that is, 'hello' and 'hello' are considered the same, and 'goodbye' and 'GOODbye' are also considered the same).\n",
    "eggs=input(\"Enter string for eggs: \")\n",
    "bacon=input(\"Enter string for bacon: \")\n",
    "string1=eggs.lower()\n",
    "string2=bacon.lower()\n",
    "assert string1!=string2, 'They are same'\n",
    "print(\"They are different\")"
   ]
  },
  {
   "cell_type": "code",
   "execution_count": null,
   "id": "1fe6c520",
   "metadata": {},
   "outputs": [],
   "source": [
    "#3. Create an assert statement that throws an AssertionError every time.\n",
    "assert True==False, \"I will display everytime\""
   ]
  },
  {
   "cell_type": "raw",
   "id": "a2d5caec",
   "metadata": {},
   "source": [
    "4. What are the two lines that must be present in your software in order to call logging.debug()?\n",
    "Ans. importing module: import logging\n",
    "     Create and configure logger: logging.basicConfig()"
   ]
  },
  {
   "cell_type": "raw",
   "id": "de744e6d",
   "metadata": {},
   "source": [
    "5. What are the two lines that your program must have in order to have logging.debug() send a logging message to a file named programLog.txt?\n",
    "Ans. i) import logging\n",
    "     ii) logging.basicConfig(filename=\"programLog.txt\", format = '%(asctime)s %(message)s')\n",
    "    \n",
    "6. What are the five levels of logging?\n",
    "Ans. Debug\n",
    "     Info\n",
    "     Warning\n",
    "     Error\n",
    "     Critical\n",
    "\n",
    "7. What line of code would you add to your software to disable all logging messages?\n",
    "Ans. logging.disable()\n",
    "\n",
    "8. Why is using logging messages better than using print() to display the same message?\n",
    "Ans. Printing messages on the console makes it cumbersome for the user and the user is not interested in those messages. Also,      for complex scripts print() will not be able to give us a good idea of how the program is performing. logging messages          give us an ordered way to understand the functioning of the program and debugging errors.\n",
    "\n",
    "9. What are the differences between the Step Over, Step In, and Step Out buttons in the debugger?\n",
    "Ans. Step Over - If the next line contains a function the function will be executed and the result returned without debugging                    each line.\n",
    "     Step In -  If the line does not contain a function it behaves the same as “step over” but if it does the debugger will                     enter the called function and continue line-by-line debugging there.\n",
    "     Step Out - It returns to the line where the current function was called.\n",
    "     \n",
    "10. After you click Continue, when will the debugger stop ?\n",
    "Ans. When it encounters a breakpoint or else, it will run till end.\n",
    "\n",
    "11. What is the concept of a breakpoint?\n",
    "Ans. We set breakpoint to halt the program at any specific point where we want to check for something (values or conditions)          while debugging or at places where errors are likely to be encountered."
   ]
  }
 ],
 "metadata": {
  "kernelspec": {
   "display_name": "Python 3 (ipykernel)",
   "language": "python",
   "name": "python3"
  },
  "language_info": {
   "codemirror_mode": {
    "name": "ipython",
    "version": 3
   },
   "file_extension": ".py",
   "mimetype": "text/x-python",
   "name": "python",
   "nbconvert_exporter": "python",
   "pygments_lexer": "ipython3",
   "version": "3.9.7"
  }
 },
 "nbformat": 4,
 "nbformat_minor": 5
}
