{
 "cells": [
  {
   "cell_type": "raw",
   "id": "ad7ace0f",
   "metadata": {},
   "source": [
    "Q1. What is the purpose of Python's OOP?\n",
    "Ans. It aims to implement real-world entities like inheritance, polymorphisms, encapsulation, etc. in the programming. The main      concept of OOPs is to bind the data and the functions that work on that together as a single unit so that no other              part of the code can access this data. \n",
    "\n",
    "Q2. Where does an inheritance search look for an attribute?\n",
    "Ans. It looks for the first occurence of the attribute inside the object, then classes above it. Bottom to top left to right          across the classes tree.\n",
    "\n",
    "\n",
    "Q3. How do you distinguish between a class object and an instance object?\n",
    "Ans. A class object is an object that contains the state and behaviours associated to it defined inside it's class. Whereas,          instance objects are declared inside the __init__ behaviour of each class object. Each class object may contain different        values for it's instance objects.\n",
    "\n",
    "Q4. What makes the first argument in a class’s method function special?\n",
    "Ans. first argument is a pointer which points to the object for which the method is called. \n",
    "\n",
    "\n",
    "Q5. What is the purpose of the __init__ method?\n",
    "Ans. The __init__ method runs as soon as an object of a class is instantiated.The method is useful to do any initialization you      want to do with your object.\n",
    "\n",
    "Q6. What is the process for creating a class instance?\n",
    "Ans. instance = class_name()\n",
    "\n",
    "\n",
    "Q7. What is the process for creating a class?\n",
    "Ans. classes are created with the keyword 'class' : \n",
    "     class class_name:\n",
    "         pass\n",
    "\n",
    "Q8. How would you define the superclasses of a class?\n",
    "Ans. The classes from which a class inherits is called the parent or superclasses.\n",
    "     class sub_class(Super_class):\n",
    "         pass"
   ]
  }
 ],
 "metadata": {
  "kernelspec": {
   "display_name": "Python 3 (ipykernel)",
   "language": "python",
   "name": "python3"
  },
  "language_info": {
   "codemirror_mode": {
    "name": "ipython",
    "version": 3
   },
   "file_extension": ".py",
   "mimetype": "text/x-python",
   "name": "python",
   "nbconvert_exporter": "python",
   "pygments_lexer": "ipython3",
   "version": "3.9.7"
  }
 },
 "nbformat": 4,
 "nbformat_minor": 5
}
