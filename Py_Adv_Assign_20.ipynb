{
 "cells": [
  {
   "cell_type": "raw",
   "id": "92a2c9ca",
   "metadata": {},
   "source": [
    "1. Compare and contrast the float and Decimal classes&#39; benefits and drawbacks.\n",
    "Ans. Float class can store decimal values but with a limited precision whereas Decimal class has way better precision as     compoared to float. Decimal class does not round up the numbers unless and until told explicitly whereas float class rounds up at much smaller precision. But to sole most of the real case scenarios and examples Float values are enough and sometimes Decimal values are 'too much'.Also, for exponential values Decimal values sometimes do round up errors. Finally, Decimal class need to be specified explicitly otherwise any variable with decimal values is automatically treated as object of float class.\n",
    "\n",
    "2. Decimal(&#39;1.200&#39;) and Decimal(&#39;1.2&#39;) are two objects to consider. In what sense are these the same\n",
    "object? Are these just two ways of representing the exact same value, or do they correspond to\n",
    "different internal states?\n",
    "Ans. These are same objects since they have the same value. While performking operations on them, the latter will give output till the fourth decimal pplace whereas the former will give only till second place...otherwise both are exactly same.\n",
    "\n",
    "3. What happens if the equality of Decimal(&#39;1.200&#39;) and Decimal(&#39;1.2&#39;) is checked?\n",
    "Ans. They are equal.\n",
    "\n",
    "4. Why is it preferable to start a Decimal object with a string rather than a floating-point value?\n",
    "Ans. Because all integers are representable as strings without representation error.\n",
    "\n",
    "5. In an arithmetic phrase, how simple is it to combine Decimal objects with integers?\n",
    "Ans. Decimal('2.1.') + 10\n",
    "Output: Decimal('12.1')\n",
    "\n",
    "6. Can Decimal objects and floating-point values be combined easily?\n",
    "Ans. No, they can not be combined easily.\n",
    "\n",
    "7. Using the Fraction class but not the Decimal class, give an example of a quantity that can be\n",
    "expressed with absolute precision.\n",
    "Ans. Fraction(22,7)\n",
    "\n",
    "8. Describe a quantity that can be accurately expressed by the Decimal or Fraction classes but not by\n",
    "a floating-point value.\n",
    "Ans. Fraction(22,7)\n",
    "     Decimal('22')/Decimal('7')\n",
    "     \n",
    "Q9.Consider the following two fraction objects: Fraction(1, 2) and Fraction(1, 2). (5, 10). Is the internal\n",
    "state of these two objects the same? Why do you think that is?\n",
    "Ans. No, they are different since Fraction stores numerator and denominator seperately. So the first one will be stored as numerator=1 , denominator=2 whereas, second one will be stored as numerator=5, denominator=10.\n",
    "\n",
    "Q10. How do the Fraction class and the integer type (int) relate to each other? Containment or\n",
    "inheritance?\n",
    "Ans. A containment"
   ]
  }
 ],
 "metadata": {
  "kernelspec": {
   "display_name": "Python 3 (ipykernel)",
   "language": "python",
   "name": "python3"
  },
  "language_info": {
   "codemirror_mode": {
    "name": "ipython",
    "version": 3
   },
   "file_extension": ".py",
   "mimetype": "text/x-python",
   "name": "python",
   "nbconvert_exporter": "python",
   "pygments_lexer": "ipython3",
   "version": "3.9.7"
  }
 },
 "nbformat": 4,
 "nbformat_minor": 5
}
