{
 "cells": [
  {
   "cell_type": "code",
   "execution_count": null,
   "id": "c55e7af5",
   "metadata": {},
   "outputs": [],
   "source": [
    "#1. Write a Python Program to Find LCM?\n",
    "a = int(input(\"Enter number A: \"))\n",
    "b = int(input(\"Enter number B: \"))\n",
    "if a>b:\n",
    "    j = a\n",
    "else:\n",
    "    j = b\n",
    "for i in range(1,j+1):\n",
    "    if i%a == 0 and i%b == 0:\n",
    "        print(i)"
   ]
  },
  {
   "cell_type": "code",
   "execution_count": null,
   "id": "8ab11c78",
   "metadata": {},
   "outputs": [],
   "source": [
    "#2. Write a Python Program to Find HCF?\n",
    "a = int(input(\"Enter number A: \"))\n",
    "b = int(input(\"Enter number B: \"))\n",
    "if a<b:\n",
    "    j = a\n",
    "else:\n",
    "    j = b\n",
    "for i in range(1,j+1):\n",
    "    if a%i == 0 and b%i == 0:\n",
    "        print(i)"
   ]
  },
  {
   "cell_type": "code",
   "execution_count": null,
   "id": "844029b9",
   "metadata": {},
   "outputs": [],
   "source": [
    "#3. Write a Python Program to Convert Decimal to Binary, Octal and Hexadecimal?\n",
    "a = int(input(\"Enter Decimal number: \"))\n",
    "num = a\n",
    "while num>0:\n",
    "    rem = num%2\n",
    "    num//=2\n",
    "    binary.append(rem)\n",
    "print(\"Binary : \",binary[100::-1])\n",
    "\n",
    "num = a\n",
    "octa = \"\"\n",
    "while num>0:\n",
    "    rem = num%8\n",
    "    num//=8\n",
    "    octa+=str(rem)\n",
    "print(\"Octadecimal: \",octa[100::-1])\n",
    "\n",
    "num = a\n",
    "hexa = \"\"\n",
    "while num>0:\n",
    "    rem = num%16\n",
    "    if rem == 10:\n",
    "        rem='A'\n",
    "    elif rem==11:\n",
    "        rem='B'\n",
    "    elif rem==12:\n",
    "        rem='C'\n",
    "    elif rem==13:\n",
    "        rem='D'\n",
    "    elif rem==14:\n",
    "        rem='E'\n",
    "    elif rem==15:\n",
    "        rem='F'\n",
    "    hexa+=str(rem)    \n",
    "    num//=16\n",
    "    \n",
    "print(\"Hexadecimal : \",hexa[100::-1])"
   ]
  },
  {
   "cell_type": "code",
   "execution_count": null,
   "id": "36220140",
   "metadata": {},
   "outputs": [],
   "source": [
    "#4. Write a Python Program To Find ASCII value of a character?\n",
    "a = int(input(\"Enter the character: \"))\n",
    "print(ord(a))"
   ]
  },
  {
   "cell_type": "code",
   "execution_count": null,
   "id": "957be84b",
   "metadata": {},
   "outputs": [],
   "source": [
    "#5. Write a Python Program to Make a Simple Calculator with 4 basic mathematical operations?\n",
    "a = int(input(\"Enter number A: \"))\n",
    "b = int(input(\"Enter number B: \"))\n",
    "operator = input(\"Enter Operator (+,-,*,/): \")\n",
    "if operator == '+':\n",
    "    print(a+b)\n",
    "elif operator == '-':\n",
    "    print(a-b)\n",
    "elif operator == '*':\n",
    "    print(a*b)\n",
    "elif operator == '/':\n",
    "    print(a/b)\n",
    "else:\n",
    "    print(\"Wrong Input\")"
   ]
  }
 ],
 "metadata": {
  "kernelspec": {
   "display_name": "Python 3 (ipykernel)",
   "language": "python",
   "name": "python3"
  },
  "language_info": {
   "codemirror_mode": {
    "name": "ipython",
    "version": 3
   },
   "file_extension": ".py",
   "mimetype": "text/x-python",
   "name": "python",
   "nbconvert_exporter": "python",
   "pygments_lexer": "ipython3",
   "version": "3.9.7"
  }
 },
 "nbformat": 4,
 "nbformat_minor": 5
}
