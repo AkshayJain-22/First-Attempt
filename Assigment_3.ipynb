{
 "cells": [
  {
   "cell_type": "raw",
   "id": "2d133c01",
   "metadata": {},
   "source": [
    "1. Why are functions advantageous to have in your programs?\n",
    "Ans. Functions help in making the program well structured and help in achieving modularity in a program. It increases the            reusability of prewritten set of instructions as the same fucntion can be called for different data variables to acieve        the same task. If functions were not there, programmer would have to write the code all over again. Also, it makes the          program compact and smaller in size as same instructions are not written again.\n",
    "\n",
    "\n",
    "2. When does the code in a function run: when it's specified or when it's called?\n",
    "Ans. It runs when it is called.\n",
    "\n",
    "3. What statement creates a function?\n",
    "Ans. a define statement : def function_name(arguments):\n",
    "                                [function body]\n",
    "\n",
    "4. What is the difference between a function and a function call?\n",
    "Ans. Function call is the statement that executes the function by calling them and parsing the required arguments.\n",
    "     Function on the other hand is a set of code which executes only when it is called. It generally related inputs to output        by performing a pre defined operation.\n",
    "     \n",
    "5. How many global scopes are there in a Python program? How many local scopes?\n",
    "Ans. There is only one global scope. \n",
    "     Local scopes can be as much as the number of functions used in the code.\n",
    "\n",
    "6. What happens to variables in a local scope when the function call returns?\n",
    "Ans. The scope of the variable vanishes and the memory location it was allocated earlier is no more allocated. When a variable is returned through function, only the value of it is parsed and not the variable itself. If you try returning the address of the variable of a local scope it will show an error.\n",
    "\n",
    "7. What is the concept of a return value? Is it possible to have a return value in an expression?\n",
    "Ans.Return statement is used to send a output to the block from where it was called. The output can be a message or a value based on the operations that the function was defined for. Yes, it is possible to have a return value in an expression. \n",
    "\n",
    "\n",
    "8. If a function does not have a return statement, what is the return value of a call to that function?\n",
    "Ans. No data is received if function does not have a return value.\n",
    "\n",
    "9. How do you make a function variable refer to the global variable?\n",
    "Ans. If there is no variable with same name as the global one, it can be referred directly by its name. Otherwise a prefixe 'global' is used. \n",
    "\n",
    "10. What is the data type of None?\n",
    "Ans. NoneType.\n",
    "\n",
    "11. What does the sentence import areallyourpetsnamederic do?\n",
    "Ans. It imports the calss areallyourpetsnamederic such that all the local features and variables become accessible to the user.\n",
    "\n",
    "12. If you had a bacon() feature in a spam module, what would you call it after importing spam?\n",
    "Ans. After importing the module where it was defined it can be called a local function.\n",
    "\n",
    "13. What can you do to save a programme from crashing if it encounters an error?\n",
    "Ans. We can put such a code in a try block.\n",
    "\n",
    "14. What is the purpose of the try clause? What is the purpose of the except clause?\n",
    "Ans. A try clause prevents the code from crashing if an error is encountered. It runs the code under its block and comes out if      the block if an error is encountered. \n",
    "     An exception block handles the error encounetered in a program. It is executed when a code placed under try block produces      an error. It can be used to report the error as well as take necessary steps to handle it. \n"
   ]
  }
 ],
 "metadata": {
  "kernelspec": {
   "display_name": "Python 3 (ipykernel)",
   "language": "python",
   "name": "python3"
  },
  "language_info": {
   "codemirror_mode": {
    "name": "ipython",
    "version": 3
   },
   "file_extension": ".py",
   "mimetype": "text/x-python",
   "name": "python",
   "nbconvert_exporter": "python",
   "pygments_lexer": "ipython3",
   "version": "3.9.7"
  }
 },
 "nbformat": 4,
 "nbformat_minor": 5
}
