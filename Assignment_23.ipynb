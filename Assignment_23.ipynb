{
 "cells": [
  {
   "cell_type": "raw",
   "id": "ad7ace0f",
   "metadata": {},
   "source": [
    "1. What is the result of the code, and why?\n",
    ">>> def func(a, b=6, c=8):\n",
    "print(a, b, c)\n",
    ">>> func(1, 2)\n",
    "\n",
    "Output: 1 2 8\n",
    "It is so because we have passed 1 and 2 values for variables a and b respectively. Since we are not passing any value for variable c, it is using its default value 8 which is given during the function defination ('c=8')\n",
    "\n",
    "2. What is the result of this code, and why?\n",
    ">>> def func(a, b, c=5):\n",
    "print(a, b, c)\n",
    ">>> func(1, c=3, b=2)\n",
    "\n",
    "Output: 1 2 3\n",
    "If variables are passed by naming explicitly, then the order of passing the values is not important. It will be passed to the correct variable as named.\n",
    "\n",
    "3. How about this code: what is its result, and why?\n",
    ">>> def func(a, *pargs):\n",
    "print(a, pargs)\n",
    ">>> func(1, 2, 3)\n",
    "\n",
    "Output: 1 (2, 3)\n",
    "'*' denoted variables can take as many variables as passed and store them inside a tuple. Here variable 'a' takes the first argument i.e. 1 and rest are passed in '*pargs'.\n",
    "\n",
    "4. What does this code print, and why?\n",
    ">>> def func(a, **kargs):\n",
    "print(a, kargs)\n",
    ">>> func(a=1, c=3, b=2)\n",
    "\n",
    "Output: 1 {'c': 3, 'b': 2}\n",
    "'**' denoted variables in a function definition take as many arguments as passed but only as key-value pairs. So, here the first argument is taken by 'a' i.e. 1 and the rest two are taken by kargs as key value pairs (c=3, b=2).\n",
    "\n",
    "5. What gets printed by this, and explain?\n",
    ">>> def func(a, b, c=8, d=5): print(a, b, c, d)\n",
    ">>> func(1, *(5, 6))\n",
    "\n",
    "Output: 1 5 6 5\n",
    "Values inside a tuple with '*' will be passed respectively to each successive variable in the function definition. So here, the first value (1) is passed to 'a', 5 and 6 are passed to 'b' and 'c' respectively. There is no more values left to pass for 'd', so it uses its default value 5 as given in the function definition.\n",
    "\n",
    "6. what is the result of this, and explain?\n",
    ">>> def func(a, b, c): a = 2; b[0] = 'x'; c['a'] = 'y'\n",
    ">>> l=1; m=[1]; n={'a':0}\n",
    ">>> func(l, m, n)\n",
    ">>> l, m, n\n",
    "\n",
    "Output: (1, ['x'], {'a': 'y'})\n",
    "When list and dictionaries are passed as arguments in a function call, so new list or dictionary is not made, infact a new alias is made which points to the same list or dictionary which was passed which is called pass by reference. It means that whatever manipulation is done on the alias, it would be reflected in the original list or dictionary also as both the alias as well as passed variable name are referring to the same data. Whereas, 'l' is an integer which is passed as by value, hence it's value will be copied to a new variable and any manipulation will not be refleced in the original one. \n"
   ]
  }
 ],
 "metadata": {
  "kernelspec": {
   "display_name": "Python 3 (ipykernel)",
   "language": "python",
   "name": "python3"
  },
  "language_info": {
   "codemirror_mode": {
    "name": "ipython",
    "version": 3
   },
   "file_extension": ".py",
   "mimetype": "text/x-python",
   "name": "python",
   "nbconvert_exporter": "python",
   "pygments_lexer": "ipython3",
   "version": "3.9.7"
  }
 },
 "nbformat": 4,
 "nbformat_minor": 5
}
