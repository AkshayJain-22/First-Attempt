{
 "cells": [
  {
   "cell_type": "raw",
   "id": "f925ffc6",
   "metadata": {},
   "source": [
    "1. Create a zoo.py file first. Define the hours() function, which prints the string 'Open 9-5 daily'. Then, use the interactive interpreter to import the zoo module and call its hours() function.\n",
    "Ans. import zoo\n",
    "     zoo.hours()\n",
    "\n",
    "Output:Open 9-5 daily"
   ]
  },
  {
   "cell_type": "raw",
   "id": "38e74d07",
   "metadata": {},
   "source": [
    "2. In the interactive interpreter, import the zoo module as menagerie and call its hours() function.\n",
    "Ans import zoo as menagerie\n",
    "    menagerie.hours()\n",
    "\n",
    "Output:Open 9-5 daily\n",
    "\n",
    "3. Using the interpreter, explicitly import and call the hours() function from zoo.\n",
    "Ans from zoo import hours\n",
    "    hours()\n",
    "    \n",
    "Output:Open 9-5 daily    \n",
    "\n",
    "4. Import the hours() function as info and call it.\n",
    "Ans. from zoo import hours as info\n",
    "     info()\n",
    "Output:Open 9-5 daily\n",
    "\n",
    "5. Create a plain dictionary with the key-value pairs 'a': 1, 'b': 2, and 'c': 3, and print it out.\n",
    "Ans. plain_dict = {'a': 1, 'b': 2, 'c': 3}\n",
    "     for key, value in plain_dict.items():\n",
    "         print(key, value)\n",
    "Output: a 1\n",
    "        b 2\n",
    "        c 3\n",
    "\n",
    "6.Make an OrderedDict called fancy from the same pairs listed in 5 and print it. Did it print in the same order as plain?\n",
    "Ans. fancy = OrderedDict()\n",
    "     fancy = {'a': 1, 'b': 2, 'c': 3}\n",
    "Output: a 1\n",
    "        b 2\n",
    "        c 3\n",
    "     Yes, its printing in the same order. Although theoritically, plain dictionaries do not store the keys in the correct              order whereas, ordered dictionaries maintain the order in which they were inserted.\n",
    "        \n",
    "7. Make a default dictionary called dict_of_lists and pass it the argument list. Make the list dict_of_lists['a'] and append the value 'something for a' to it in one assignment. Print dict_of_lists['a'].\n",
    "Ans. \n",
    "    from collections import defaultdict\n",
    "\n",
    "    dict_of_lists = defaultdict(list)\n",
    "    value = 'something for a'\n",
    "    dict_of_lists['a'].append(value)\n",
    "    \n",
    "    dict_of_lists['a']\n",
    "Output: ['something for a']"
   ]
  }
 ],
 "metadata": {
  "kernelspec": {
   "display_name": "Python 3 (ipykernel)",
   "language": "python",
   "name": "python3"
  },
  "language_info": {
   "codemirror_mode": {
    "name": "ipython",
    "version": 3
   },
   "file_extension": ".py",
   "mimetype": "text/x-python",
   "name": "python",
   "nbconvert_exporter": "python",
   "pygments_lexer": "ipython3",
   "version": "3.9.7"
  }
 },
 "nbformat": 4,
 "nbformat_minor": 5
}
