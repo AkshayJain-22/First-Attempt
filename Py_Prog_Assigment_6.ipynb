{
 "cells": [
  {
   "cell_type": "code",
   "execution_count": null,
   "id": "4ff79144",
   "metadata": {},
   "outputs": [],
   "source": [
    "#1.Write a Python Program to Display Fibonacci Sequence Using Recursion?\n",
    "def Fibonacci(n,i=0,prev=0,curr=1):\n",
    "    if (i==0):\n",
    "        print(prev,end=' ')\n",
    "        print(curr,end=' ')\n",
    "        i+=2\n",
    "    else:\n",
    "        result = prev+curr\n",
    "        print(result,end=' ')\n",
    "        prev=curr\n",
    "        curr=result\n",
    "        i+=1\n",
    "    if(i<n):\n",
    "        Fibonacci(n,i,prev,curr)\n",
    "\n",
    "n = int(input(\"Enter no. of values to be printed: \"))\n",
    "Fibonacci(n)"
   ]
  },
  {
   "cell_type": "code",
   "execution_count": null,
   "id": "7f33eeac",
   "metadata": {},
   "outputs": [],
   "source": [
    "#2. Write a Python Program to Find Factorial of Number Using Recursion?\n",
    "def Factorial(n,total=1):\n",
    "    if (n-1)>0:\n",
    "        total*=(n)\n",
    "        Factorial(n-1,total)\n",
    "    else:\n",
    "        print(total)\n",
    "Factorial(10)"
   ]
  },
  {
   "cell_type": "code",
   "execution_count": null,
   "id": "2312a955",
   "metadata": {},
   "outputs": [],
   "source": [
    "#3. Write a Python Program to calculate your Body Mass Index?\n",
    "height = int(input(\"Enter height in meters: \"))\n",
    "weight = int(input(\"Enter weight in kgs: \"))\n",
    "print(weight/(height**2))"
   ]
  },
  {
   "cell_type": "code",
   "execution_count": null,
   "id": "864fac4d",
   "metadata": {},
   "outputs": [],
   "source": [
    "#4. Write a Python Program to calculate the natural logarithm of any number?\n",
    "import numpy as np\n",
    "n = int(input(\"Enter any number: \"))\n",
    "print(np.log(n))"
   ]
  },
  {
   "cell_type": "code",
   "execution_count": null,
   "id": "0ad0920d",
   "metadata": {},
   "outputs": [],
   "source": [
    "#5. Write a Python Program for cube sum of first n natural numbers?\n",
    "n = int(input(\"Enter n: \"))\n",
    "add = 0\n",
    "for i in range(1,n+1):\n",
    "    add+=i**3\n",
    "add"
   ]
  }
 ],
 "metadata": {
  "kernelspec": {
   "display_name": "Python 3 (ipykernel)",
   "language": "python",
   "name": "python3"
  },
  "language_info": {
   "codemirror_mode": {
    "name": "ipython",
    "version": 3
   },
   "file_extension": ".py",
   "mimetype": "text/x-python",
   "name": "python",
   "nbconvert_exporter": "python",
   "pygments_lexer": "ipython3",
   "version": "3.9.7"
  }
 },
 "nbformat": 4,
 "nbformat_minor": 5
}
