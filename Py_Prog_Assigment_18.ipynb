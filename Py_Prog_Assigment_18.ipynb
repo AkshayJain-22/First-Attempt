{
 "cells": [
  {
   "cell_type": "raw",
   "id": "d0535fcc",
   "metadata": {},
   "source": [
    "Question 1\n",
    "Create a function that takes a list of non-negative integers and strings and return a new list\n",
    "without the strings.\n",
    "Examples\n",
    "filter_list([1, 2, &quot;a&quot;, &quot;b&quot;]) ➞ [1, 2]\n",
    "filter_list([1, &quot;a&quot;, &quot;b&quot;, 0, 15]) ➞ [1, 0, 15]\n",
    "filter_list([1, 2, &quot;aasf&quot;, &quot;1&quot;, &quot;123&quot;, 123]) ➞ [1, 2, 123]"
   ]
  },
  {
   "cell_type": "code",
   "execution_count": 1,
   "id": "1bcc6a5e",
   "metadata": {},
   "outputs": [],
   "source": [
    "def filter_list(string):\n",
    "    new_string = []\n",
    "    for i in string:\n",
    "        try:\n",
    "            int(i)\n",
    "        except :\n",
    "            pass\n",
    "        else:\n",
    "            new_string.append(int(i))\n",
    "    return new_string"
   ]
  },
  {
   "cell_type": "raw",
   "id": "fb7dd0b8",
   "metadata": {},
   "source": [
    "Question 2\n",
    "The &quot;Reverser&quot; takes a string as input and returns that string in reverse order, with the\n",
    "opposite case.\n",
    "Examples\n",
    "reverse(&quot;Hello World&quot;) ➞ &quot;DLROw OLLEh&quot;\n",
    "reverse(&quot;ReVeRsE&quot;) ➞ &quot;eSrEvEr&quot;\n",
    "reverse(&quot;Radar&quot;) ➞ &quot;RADAr&quot;"
   ]
  },
  {
   "cell_type": "code",
   "execution_count": 2,
   "id": "e9f744bb",
   "metadata": {},
   "outputs": [],
   "source": [
    "def reverse(string):\n",
    "    new_string = \"\"\n",
    "    for i in range(len(string)-1,-1,-1):\n",
    "        new_string+=string[i].swapcase()\n",
    "    return new_string"
   ]
  },
  {
   "cell_type": "raw",
   "id": "94e9a982",
   "metadata": {},
   "source": [
    "Question 3\n",
    "You can assign variables from lists like this:\n",
    "lst = [1, 2, 3, 4, 5, 6]\n",
    "first = lst[0]\n",
    "middle = lst[1:-1]\n",
    "last = lst[-1]\n",
    "print(first) ➞ outputs 1\n",
    "print(middle) ➞ outputs [2, 3, 4, 5]\n",
    "print(last) ➞ outputs 6\n",
    "\n",
    "With Python 3, you can assign variables from lists in a much more succinct way. Create\n",
    "variables first, middle and last from the given list using destructuring assignment\n",
    "(check the Resources tab for some examples), where:\n",
    "first ➞ 1\n",
    "middle ➞ [2, 3, 4, 5]\n",
    "last ➞ 6\n",
    "\n",
    "Your task is to unpack the list writeyourcodehere into three variables, being first,\n",
    "middle, and last, with middle being everything in between the first and last element. Then\n",
    "print all three variables."
   ]
  },
  {
   "cell_type": "code",
   "execution_count": null,
   "id": "4e462cf8",
   "metadata": {},
   "outputs": [],
   "source": [
    "writeyourcodehere = [1,2,3,4,5,6,7,8,9]\n",
    "first,*middle,last = writeyourcodehere\n",
    "print(first,middle,last)"
   ]
  },
  {
   "cell_type": "raw",
   "id": "2e4629ec",
   "metadata": {},
   "source": [
    "Question 4\n",
    "Write a function that calculates the factorial of a number recursively."
   ]
  },
  {
   "cell_type": "code",
   "execution_count": null,
   "id": "badd9b92",
   "metadata": {},
   "outputs": [],
   "source": [
    "def facatorial(n,product=1):\n",
    "    if (n==1):\n",
    "        print(product)\n",
    "    else:\n",
    "        product*= n\n",
    "        facatorial(n-1,product)"
   ]
  }
 ],
 "metadata": {
  "kernelspec": {
   "display_name": "Python 3 (ipykernel)",
   "language": "python",
   "name": "python3"
  },
  "language_info": {
   "codemirror_mode": {
    "name": "ipython",
    "version": 3
   },
   "file_extension": ".py",
   "mimetype": "text/x-python",
   "name": "python",
   "nbconvert_exporter": "python",
   "pygments_lexer": "ipython3",
   "version": "3.9.7"
  }
 },
 "nbformat": 4,
 "nbformat_minor": 5
}
