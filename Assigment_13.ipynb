{
 "cells": [
  {
   "cell_type": "raw",
   "id": "b70b2b95",
   "metadata": {},
   "source": [
    "1. What advantages do Excel spreadsheets have over CSV spreadsheets?\n",
    "Ans. Excel not only stores the data but can also do required operations whereas CSV spreadsheets do not have any formulas or        pre-definned operations\n",
    "\n",
    "2. What do you pass to csv.reader() and csv.writer() to create reader and writer objects?\n",
    "Ans. We pass name of the file opened for reading or writing.\n",
    "     ex. filename = \"university_records.csv\"\n",
    "         open(filename, 'r')\n",
    "         csvreader = csv.reader(filename)\n",
    "        Similarly, \n",
    "         open(filename, 'w')\n",
    "         csvreader = csv.writer(filename)\n",
    "         \n",
    "3. What modes do File objects for reader and writer objects need to be opened in?\n",
    "Ans. For reader : 'r'\n",
    "     For writer : 'w' or 'a' depending upon the task\n",
    "     Or 'r+' for both operations at the same time.\n",
    "     \n",
    "4. What method takes a list argument and writes it to a CSV file?\n",
    "Ans. writerows()\n",
    "\n",
    "5. What do the keyword arguments delimiter and line terminator do?\n",
    "Ans. delimeter is a one-character character string used to seperate fields while reading.\n",
    "     line terminator terminates lines produced by the writer. It defaults to '\\r\\n'\n",
    "     \n",
    "6. What function takes a string of JSON data and returns a Python data structure?\n",
    "Ans. loads()\n",
    "\n",
    "7. What function takes a Python data structure and returns a string of JSON data?\n",
    "Ans. dumps()"
   ]
  }
 ],
 "metadata": {
  "kernelspec": {
   "display_name": "Python 3 (ipykernel)",
   "language": "python",
   "name": "python3"
  },
  "language_info": {
   "codemirror_mode": {
    "name": "ipython",
    "version": 3
   },
   "file_extension": ".py",
   "mimetype": "text/x-python",
   "name": "python",
   "nbconvert_exporter": "python",
   "pygments_lexer": "ipython3",
   "version": "3.9.7"
  }
 },
 "nbformat": 4,
 "nbformat_minor": 5
}
