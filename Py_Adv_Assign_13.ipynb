{
 "cells": [
  {
   "cell_type": "raw",
   "id": "92a2c9ca",
   "metadata": {},
   "source": [
    "Q1. Can you create a programme or function that employs both positive and negative indexing? Is there any repercussion if you do so?\n",
    "Ans.def indexing(start,stop,step):\n",
    "        a = 'Hellloliuiaaa'\n",
    "        print(a[start:stop:step])\n",
    "\n",
    "    indexing(-1,1,-1)\n",
    "    \n",
    "    Output: aaaiuilolll    \n",
    "    \n",
    "    No, there are no repercussions.\n",
    "\n",
    "Q2. What is the most effective way of starting with 1,000 elements in a Python list? Assume that all elements should be set to the same value.\n",
    "Ans. py_list = [value]*1000\n",
    "\n",
    "Q3. How do you slice a list to get any other part while missing the rest? (For example, suppose you want to make a new list with the elements first, third, fifth, seventh, and so on.)\n",
    "Ans. There are many ways to do it, but easiest would be to use 'step' value efficiently. \n",
    "     For example, for making a list with elements first, third, fifth, seventh, and so on:\n",
    "     new_list = old_list[::2]\n",
    "\n",
    "Q4. Explain the distinctions between indexing and slicing.\n",
    "Ans. Indexing in Python is a way to refer the individual items within an iterable by its position. It is a single number. \n",
    "     Slicing in Python is a feature that enables accessing parts of iterables. So in a way, slicing is referring series of            indexes.\n",
    "\n",
    "\n",
    "Q5. What happens if one of the slicing expression's indexes is out of range?\n",
    "Ans. It stops at the last index in range.\n",
    "\n",
    "\n",
    "Q6. If you pass a list to a function, and if you want the function to be able to change the values of the list—so that the list is different after the function returns—what action should you avoid?\n",
    "Ans. When we pass the list as argument a new list is not created but an alias is made. So whatever action is done on the alias,      it will be reflected automatically in the original list. Therefore there is no need to return the list.\n",
    "\n",
    "\n",
    "Q7. What is the concept of an unbalanced matrix?\n",
    "Ans. A matrix is balanced if all cells in the matrix are balanced and a cell of the matrix is balanced if the number of cells in      that matrix that are adjacent to that cell is strictly greater than the value written in this cell. Otherwise it is an          unbalanced matrix\n",
    "\n",
    "\n",
    "Q8. Why is it necessary to use either list comprehension or a loop to create arbitrarily large matrices?\n",
    "Ans. Python does not allow matrix decleration therefore it must be built. To build a matrtix one might do this:-\n",
    "     l = [[0]*[100]]*100\n",
    "     but this would just create 100 references to the same row and not 100 new rows. So we need a list comprehension or a loop:-\n",
    "     for i in range(100):\n",
    "         l.append([0]*[100]) \n",
    "     This would create 10000 independent cells."
   ]
  }
 ],
 "metadata": {
  "kernelspec": {
   "display_name": "Python 3 (ipykernel)",
   "language": "python",
   "name": "python3"
  },
  "language_info": {
   "codemirror_mode": {
    "name": "ipython",
    "version": 3
   },
   "file_extension": ".py",
   "mimetype": "text/x-python",
   "name": "python",
   "nbconvert_exporter": "python",
   "pygments_lexer": "ipython3",
   "version": "3.9.7"
  }
 },
 "nbformat": 4,
 "nbformat_minor": 5
}
