{
 "cells": [
  {
   "cell_type": "code",
   "execution_count": null,
   "id": "e1ed2be3",
   "metadata": {},
   "outputs": [],
   "source": [
    "#1.Write a Python Program to Find the Factorial of a Number?\n",
    "num = int(input(\"Enter any number: \"))\n",
    "ans = 1\n",
    "for i in range(num+1,1,-1):\n",
    "    ans*=i\n",
    "print(\"Factorial is : \",num)"
   ]
  },
  {
   "cell_type": "code",
   "execution_count": null,
   "id": "52e81927",
   "metadata": {},
   "outputs": [],
   "source": [
    "#2. Write a Python Program to Display the multiplication Table?\n",
    "num = int(input(\"Enter any number: \"))\n",
    "for i in range(1,21):\n",
    "    print(\"{}X{}={}\".format(i,num,i*num))"
   ]
  },
  {
   "cell_type": "code",
   "execution_count": 5,
   "id": "d63d22ef",
   "metadata": {},
   "outputs": [
    {
     "name": "stdout",
     "output_type": "stream",
     "text": [
      "Enter number of Elements: 5\n",
      "1 1 2 3 5 8 "
     ]
    }
   ],
   "source": [
    "#3. Write a Python Program to Print the Fibonacci sequence?\n",
    "num = int(input(\"Enter number of Elements: \"))\n",
    "cur = 0\n",
    "prev = 1\n",
    "for i in range(num+1):\n",
    "    result=cur+prev\n",
    "    prev = cur\n",
    "    cur = result\n",
    "    print(str(result),end=\" \")"
   ]
  },
  {
   "cell_type": "code",
   "execution_count": null,
   "id": "0f57a342",
   "metadata": {},
   "outputs": [],
   "source": [
    "#4. Write a Python Program to Check Armstrong Number?\n",
    "num = int(input(\"Enter a three digit number: \"))\n",
    "hun = int(num/100)\n",
    "tens = int(num%100)\n",
    "tens = int(tens/10)\n",
    "ones = num%10\n",
    "check = hun**3 + tens**3 + ones**3\n",
    "if check == num:\n",
    "    print(\"Armstrong's Number\")\n",
    "else:\n",
    "    print(\"Not an Armstrong's Number\")"
   ]
  },
  {
   "cell_type": "code",
   "execution_count": null,
   "id": "608a7a7b",
   "metadata": {},
   "outputs": [],
   "source": [
    "#5. Write a Python Program to Find Armstrong Number in an Interval?\n",
    "num = int(input(\"Enter the higher limit: \"))\n",
    "for i in range(num+1):\n",
    "    hun = int(i/100)\n",
    "    tens = int(i%100)\n",
    "    tens = int(tens/10)\n",
    "    ones = i%10\n",
    "    check = hun**3 + tens**3 + ones**3\n",
    "    if check == i:\n",
    "        print(i)"
   ]
  },
  {
   "cell_type": "code",
   "execution_count": null,
   "id": "f50b94b3",
   "metadata": {},
   "outputs": [],
   "source": [
    "#6. Write a Python Program to Find the Sum of Natural Numbers\n",
    "num = int(input(\"Enter the higher limit: \"))\n",
    "total = 0\n",
    "for i in range(num+1):\n",
    "    total+=i\n",
    "print(total)"
   ]
  }
 ],
 "metadata": {
  "kernelspec": {
   "display_name": "Python 3 (ipykernel)",
   "language": "python",
   "name": "python3"
  },
  "language_info": {
   "codemirror_mode": {
    "name": "ipython",
    "version": 3
   },
   "file_extension": ".py",
   "mimetype": "text/x-python",
   "name": "python",
   "nbconvert_exporter": "python",
   "pygments_lexer": "ipython3",
   "version": "3.9.7"
  }
 },
 "nbformat": 4,
 "nbformat_minor": 5
}
