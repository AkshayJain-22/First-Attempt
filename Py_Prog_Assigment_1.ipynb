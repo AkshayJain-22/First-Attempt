{
 "cells": [
  {
   "cell_type": "code",
   "execution_count": null,
   "id": "273b3d6f",
   "metadata": {},
   "outputs": [],
   "source": [
    "#1. Write a Python program to print &quot;Hello Python&quot;?\n",
    "print('Hello World')"
   ]
  },
  {
   "cell_type": "code",
   "execution_count": null,
   "id": "2b0f6cb2",
   "metadata": {},
   "outputs": [],
   "source": [
    "#2. Write a Python program to do arithmetical operations addition and division.?\n",
    "a = int(input('Enter number A: '))\n",
    "b = int(input('Enter number B: '))\n",
    "print(\"Addition: \",a+b)\n",
    "print(\"Division: \",a/b)"
   ]
  },
  {
   "cell_type": "code",
   "execution_count": null,
   "id": "c794cc0a",
   "metadata": {},
   "outputs": [],
   "source": [
    "#3. Write a Python program to find the area of a triangle?\n",
    "base = int(input(\"Enter base : \"))\n",
    "height = int(input(\"Enter height : \"))\n",
    "area = (0.5)*(base)*(height)\n",
    "print(\"Area : \",area)"
   ]
  },
  {
   "cell_type": "code",
   "execution_count": null,
   "id": "416fa634",
   "metadata": {},
   "outputs": [],
   "source": [
    "#4. Write a Python program to swap two variables?\n",
    "a = int(input('Enter number A: '))\n",
    "b = int(input('Enter number B: '))\n",
    "temp = a\n",
    "a = b\n",
    "b = temp\n",
    "print(\"A : \",a)\n",
    "pirnt(\"B : \",b)"
   ]
  },
  {
   "cell_type": "code",
   "execution_count": null,
   "id": "10afaaba",
   "metadata": {},
   "outputs": [],
   "source": [
    "#5. Write a Python program to generate a random variable\n",
    "import random\n",
    "n = int(input(\"Enter maximum number: \"))\n",
    "print(random.randint(0,n))"
   ]
  }
 ],
 "metadata": {
  "kernelspec": {
   "display_name": "Python 3 (ipykernel)",
   "language": "python",
   "name": "python3"
  },
  "language_info": {
   "codemirror_mode": {
    "name": "ipython",
    "version": 3
   },
   "file_extension": ".py",
   "mimetype": "text/x-python",
   "name": "python",
   "nbconvert_exporter": "python",
   "pygments_lexer": "ipython3",
   "version": "3.9.7"
  }
 },
 "nbformat": 4,
 "nbformat_minor": 5
}
