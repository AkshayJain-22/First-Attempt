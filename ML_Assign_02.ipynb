{
 "cells": [
  {
   "cell_type": "markdown",
   "id": "e35f3f0d",
   "metadata": {},
   "source": [
    "1. What is the concept of human learning? Please give two examples.\n",
    "Ans. Humans acquire knowledge through experience either directly or shared by others.eg. Students learning through books and teachers who have that knowlwdge already and are trying to pass it.\n",
    "     Other way to do this is by performing a task and getting feedback. eg, Cooking and letting others taste it.\n",
    "\n",
    "2. What different forms of human learning are there? Are there any machine learning equivalents?\n",
    "Ans. Learning from old Information = Supervised Learning.\n",
    "     Learning through feedback = Reinforcement Learning\n",
    "\n",
    "3. What is machine learning, and how does it work? What are the key responsibilities of machinelearning?\n",
    "Ans. Machine Learning refers to the training of a machine to perform a task with least human intervention.\n",
    "\n",
    "4. Define the terms 'penalty' and 'reward' in the context of reinforcement learning.\n",
    "Ans. In case of reinforcement learning, a labelled data set is not given. So the machine is trained according to its                experience. For every correct step the machine takes towards completing a task, it is rewarded otherwise penalized. The        methods with most rewards is the best chosen method to solve that problem.\n",
    "\n",
    "5. Explain the term 'learning as a search'?\n",
    "Ans. Learning is searching for a hypothesis in a hypothesis space.\n",
    "\n",
    "6. What are the various goals of machine learning? What is the relationship between these and human learning?\n",
    "Ans. Goals of machine learning is to draw patterns and make equations from past data so as to predict the result of future for unknown data. Humans also learn in the same way. They apply their knowledge to perform some task based on their previous expereinces of similar situations.\n",
    "\n",
    "7. Illustrate the various elements of machine learning using a real-life illustration.\n",
    "Ans. Humans learn using their past . Its much like the labelled data set given to a machine learning model.\n",
    "     Humans practice on some tasks until they crack the code of how to do it if similar situations come up.\n",
    "\n",
    "8. Provide an example of the abstraction method.\n",
    "Ans. \n",
    "\n",
    "9. What is the concept of generalization? What function does it play in the machine learning process? What is classification, \n",
    "   exactly? What are the main distinctions between classification and regression?\n",
    "Ans. Generalization refers to the idea according to which a model can fit all testing data no matter how versaltile or diverse      it may be. In machine learning process the model is considered good only if it can predict the result of a generalized          dataset. Classification refers to the processing of the data where the final output can only be some discrete value. Or        dividing the output into a certain classes of output. Classification only has a discrete classes in output column be it        numerical or not. Whereas regression has continuous numerical values in the output\n",
    "\n",
    "11. What is regression, and how does it work? Give an example of a real-world problem that was solved using regression.\n",
    "Ans. Regression refers to the process of estimating the relation between a dependent and one or more independent variables          using statistical methods. It works by contructing line that best fits the data points between dependent and independent        variables. \n",
    "\n",
    "12. Describe the clustering mechanism in detail.\n",
    "Ans. Clustering refers to grouping the data by finding the similarities between various feautures for different data points. It      is generally achieved by finding the nearest data points on a cartesian plain.\n",
    "\n",
    "13. Make brief observations on two of the following topics:\n",
    " i. Machine learning algorithms are used\n",
    " ii. Studying under supervision : It is refered to training the model using a labelled data set where both feautres and              expected outputs are given.\n",
    " iii. Studying without supervision : It is the one where the output for a dataset is not given. The model finds patterns and        draws conclusions on its own using some algorithm.\n",
    " iv. Reinforcement learning is a form of learning based on positive reinforcement: Reinforcement learning is atype of learning      where model takes steps to complete a task. For every correcrt step its given a reward (positive reinforcement) otherwise      a penalty (negative one). The model if trained to get the most rewards and hence called positive reinforcement."
   ]
  }
 ],
 "metadata": {
  "kernelspec": {
   "display_name": "Python 3 (ipykernel)",
   "language": "python",
   "name": "python3"
  },
  "language_info": {
   "codemirror_mode": {
    "name": "ipython",
    "version": 3
   },
   "file_extension": ".py",
   "mimetype": "text/x-python",
   "name": "python",
   "nbconvert_exporter": "python",
   "pygments_lexer": "ipython3",
   "version": "3.9.7"
  }
 },
 "nbformat": 4,
 "nbformat_minor": 5
}
