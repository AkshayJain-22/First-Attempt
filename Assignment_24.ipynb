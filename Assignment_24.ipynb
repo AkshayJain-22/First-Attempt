{
 "cells": [
  {
   "cell_type": "raw",
   "id": "ad7ace0f",
   "metadata": {},
   "source": [
    "1. What is the relationship between def statements and lambda expressions ?\n",
    "Ans. def statement is used to define a function explicitly. lambda expression also defines a function, but, anonymous.\n",
    "\n",
    "2. What is the benefit of lambda?\n",
    "Ans. Lambda definition does not include a “return” statement, it always contains an expression that is returned. We can also put      a lambda definition anywhere a function is expected, and we don’t have to assign it to a variable at all. This is the            simplicity of lambda functions.\n",
    "\n",
    "3. Compare and contrast map, filter, and reduce.\n",
    "Ans.'map' applies a function to all the items in an input_list: map(function_to_apply, list_of_inputs)\n",
    "    It is not confined to any single functionality, but depends on the function provided to it as input.\n",
    "    'filter' creates a list of elements for which a function returns true. \n",
    "    eg. less_than_zero = list(filter(lambda x: x < 0, number_list))\n",
    "    It's functionality is confined to filtering the lists.\n",
    "    'reduce'  applies a rolling computation to sequential pairs of values in a list. \n",
    "    eg.product = reduce((lambda x, y: x * y), [1, 2, 3, 4])\n",
    "\n",
    "4. What are function annotations, and how are they used?\n",
    "Ans. Function annotations are arbitrary python expressions that are associated with various part of functions. These expressions      are evaluated at compile time and have no life in python’s runtime environment.\n",
    "     eg.def func_name(a:'char', b:'int'=10)  -> 'char'\n",
    "     \n",
    "5. What are recursive functions, and how are they used?\n",
    "Ans. Recursive functions are functions that call themselves. It can be used by including the function call inside the function        body itself. \n",
    "     eg. def recurse():\n",
    "             condition....\n",
    "                 recurse()\n",
    "             return....\n",
    "             \n",
    "6. What are some general design guidelines for coding functions?\n",
    "a) Use 4-space indentation and no tabs: First line contains no argument. Second line onwards more indentation included to          distinguish this from the rest. Example:\n",
    "def function_name(\n",
    "        variable_one, variable_two, variable_three,\n",
    "        variable_four):\n",
    "    print(variable_one)\n",
    "b) Use docstrings : There are both single and multi-line docstrings that can be used in Python.\n",
    "c) Use of regular and updated comments are valuable to both the coders and users\n",
    "d) Characters that should not be used for identifiers : ‘l’ (lowercase letter el), ‘O’ (uppercase letter oh), or ‘I’ (uppercase    letter eye) as single character variable names as these are similar to the numerals one and zero.\n",
    "There are many such guidelines to follow.\n",
    "\n",
    "7. Name three or more ways that functions can communicate results to a caller.\n",
    "Ans.a) print the result directly using the function body.\n",
    "    b) returning a variable with the result.\n",
    "    c) using yield statement to create generators"
   ]
  }
 ],
 "metadata": {
  "kernelspec": {
   "display_name": "Python 3 (ipykernel)",
   "language": "python",
   "name": "python3"
  },
  "language_info": {
   "codemirror_mode": {
    "name": "ipython",
    "version": 3
   },
   "file_extension": ".py",
   "mimetype": "text/x-python",
   "name": "python",
   "nbconvert_exporter": "python",
   "pygments_lexer": "ipython3",
   "version": "3.9.7"
  }
 },
 "nbformat": 4,
 "nbformat_minor": 5
}
