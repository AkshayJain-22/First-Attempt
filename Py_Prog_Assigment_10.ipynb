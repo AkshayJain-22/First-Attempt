{
 "cells": [
  {
   "cell_type": "code",
   "execution_count": null,
   "id": "4ff79144",
   "metadata": {},
   "outputs": [],
   "source": [
    "#1. Write a Python program to find sum of elements in list?\n",
    "l = [9,8,7,6,5,4,3,2,1]\n",
    "sum(l)"
   ]
  },
  {
   "cell_type": "code",
   "execution_count": 1,
   "id": "7f33eeac",
   "metadata": {},
   "outputs": [],
   "source": [
    "#2. Write a Python program to Multiply all numbers in the list?\n",
    "product = 1\n",
    "for i in l:\n",
    "    product*=i"
   ]
  },
  {
   "cell_type": "code",
   "execution_count": null,
   "id": "2312a955",
   "metadata": {},
   "outputs": [],
   "source": [
    "#3. Write a Python program to find smallest number in a list?\n",
    "min(l)"
   ]
  },
  {
   "cell_type": "code",
   "execution_count": null,
   "id": "864fac4d",
   "metadata": {},
   "outputs": [],
   "source": [
    "#4. Write a Python program to find largest number in a list?\n",
    "max(l)"
   ]
  },
  {
   "cell_type": "code",
   "execution_count": null,
   "id": "0ad0920d",
   "metadata": {},
   "outputs": [],
   "source": [
    "#5. Write a Python program to find second largest number in a list?\n",
    "i = -1\n",
    "while l[i]==max(l):\n",
    "    i-=1\n",
    "print(l[i])"
   ]
  },
  {
   "cell_type": "code",
   "execution_count": null,
   "id": "7017cece",
   "metadata": {},
   "outputs": [],
   "source": [
    "#6. Write a Python program to find N largest elements from a list?\n",
    "N  = int(input(\"Enter the value of N: \"))\n",
    "i = -1\n",
    "ctr=0\n",
    "l.sort()\n",
    "high = max(l)\n",
    "while ctr!=N:\n",
    "    if(l[i]<high):\n",
    "        print(l[i])\n",
    "        high = l[i]\n",
    "        ctr+=1\n",
    "    i-=1"
   ]
  },
  {
   "cell_type": "code",
   "execution_count": null,
   "id": "e35e2e7b",
   "metadata": {},
   "outputs": [],
   "source": [
    "#7. Write a Python program to print even numbers in a list?\n",
    "[i for i in l if(i%2==0)]"
   ]
  },
  {
   "cell_type": "code",
   "execution_count": null,
   "id": "59c8b7f2",
   "metadata": {},
   "outputs": [],
   "source": [
    "#8. Write a Python program to print odd numbers in a List?\n",
    "[i for i in l if(i%2!=0)]"
   ]
  },
  {
   "cell_type": "code",
   "execution_count": null,
   "id": "e67dd665",
   "metadata": {},
   "outputs": [],
   "source": [
    "#9. Write a Python program to Remove empty List from List?\n",
    "for i in range(len(l)):\n",
    "    if l[i] == '':\n",
    "        l.pop(i)"
   ]
  },
  {
   "cell_type": "code",
   "execution_count": null,
   "id": "2483fa80",
   "metadata": {},
   "outputs": [],
   "source": [
    "#10. Write a Python program to Cloning or Copying a list?\n",
    "l_copy = l.copy()"
   ]
  },
  {
   "cell_type": "code",
   "execution_count": null,
   "id": "0939adbe",
   "metadata": {},
   "outputs": [],
   "source": [
    "#11. Write a Python program to Count occurrences of an element in a list?\n",
    "l.count(element)"
   ]
  }
 ],
 "metadata": {
  "kernelspec": {
   "display_name": "Python 3 (ipykernel)",
   "language": "python",
   "name": "python3"
  },
  "language_info": {
   "codemirror_mode": {
    "name": "ipython",
    "version": 3
   },
   "file_extension": ".py",
   "mimetype": "text/x-python",
   "name": "python",
   "nbconvert_exporter": "python",
   "pygments_lexer": "ipython3",
   "version": "3.9.7"
  }
 },
 "nbformat": 4,
 "nbformat_minor": 5
}
