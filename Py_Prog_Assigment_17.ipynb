{
 "cells": [
  {
   "cell_type": "raw",
   "id": "bfb8fa46",
   "metadata": {},
   "source": [
    "Question1. Create a function that takes three arguments a, b, c and returns the sum of the\n",
    "numbers that are evenly divided by c from the range a, b inclusive.\n",
    "Examples\n",
    "evenly_divisible(1, 10, 20) ➞ 0\n",
    "# No number between 1 and 10 can be evenly divided by 20.\n",
    "evenly_divisible(1, 10, 2) ➞ 30\n",
    "# 2 + 4 + 6 + 8 + 10 = 30\n",
    "evenly_divisible(1, 10, 3) ➞ 18\n",
    "# 3 + 6 + 9 = 18"
   ]
  },
  {
   "cell_type": "code",
   "execution_count": null,
   "id": "f41f41b9",
   "metadata": {},
   "outputs": [],
   "source": [
    "def evenly_divisible(a,b,c,):\n",
    "    sum = 0\n",
    "    for i in range(a,b+1):\n",
    "        if (i%c==0):\n",
    "            sum+=i"
   ]
  },
  {
   "cell_type": "raw",
   "id": "517cf788",
   "metadata": {},
   "source": [
    "Question2. Create a function that returns True if a given inequality expression is correct and\n",
    "False otherwise.\n",
    "Examples\n",
    "correct_signs(&quot;3 &lt; 7 &lt; 11&quot;) ➞ True\n",
    "correct_signs(&quot;13 &gt; 44 &gt; 33 &gt; 1&quot;) ➞ False\n",
    "correct_signs(&quot;1 &lt; 2 &lt; 6 &lt; 9 &gt; 3&quot;) ➞ True"
   ]
  },
  {
   "cell_type": "code",
   "execution_count": null,
   "id": "29db9e9e",
   "metadata": {},
   "outputs": [],
   "source": [
    "def correct_sign(e):\n",
    "    e = e.split(\" \")\n",
    "    ans = True\n",
    "    i=0\n",
    "    while i<(len(e)-1):\n",
    "        a = int(e[i])\n",
    "        b = int(e[i+2])\n",
    "        if e[i+1]=='<':\n",
    "            if (a < b)==False:\n",
    "                ans = False\n",
    "                return False\n",
    "            \n",
    "        elif(e[i+1]=='>'):\n",
    "            if (a>b)==False:\n",
    "                ans = False\n",
    "                return False\n",
    "        i+=2\n",
    "    return ans"
   ]
  },
  {
   "cell_type": "code",
   "execution_count": null,
   "id": "7e6b6f7e",
   "metadata": {},
   "outputs": [],
   "source": [
    "#Question3. Create a function that replaces all the vowels in a string with a specified character.\n",
    "def replace_vowels(a,symbol):\n",
    "    vowels = \"aeiou\"\n",
    "    for i in a:\n",
    "        if i in vowels:\n",
    "            a = a.replace(i,symbol)\n",
    "    return a"
   ]
  },
  {
   "cell_type": "code",
   "execution_count": null,
   "id": "a7cb4c57",
   "metadata": {},
   "outputs": [],
   "source": [
    "#Question4. Write a function that calculates the factorial of a number recursively.\n",
    "def facatorial(n,product=1):\n",
    "    if (n==1):\n",
    "        print(product)\n",
    "    else:\n",
    "        product*= n\n",
    "        facatorial(n-1,product)"
   ]
  },
  {
   "cell_type": "code",
   "execution_count": 1,
   "id": "e5c56129",
   "metadata": {},
   "outputs": [],
   "source": [
    "#Question5 Create a function that computes the hamming distance between two strings.\n",
    "def hamming_dist(a,b):\n",
    "    for i in a:\n",
    "        if i in b:\n",
    "            b=b.replace(i,\"\")\n",
    "            a=a.replace(i,\"\")\n",
    "    if (len(a)>len(b)):\n",
    "        return len(a)\n",
    "    else:\n",
    "        return len(b)"
   ]
  }
 ],
 "metadata": {
  "kernelspec": {
   "display_name": "Python 3 (ipykernel)",
   "language": "python",
   "name": "python3"
  },
  "language_info": {
   "codemirror_mode": {
    "name": "ipython",
    "version": 3
   },
   "file_extension": ".py",
   "mimetype": "text/x-python",
   "name": "python",
   "nbconvert_exporter": "python",
   "pygments_lexer": "ipython3",
   "version": "3.9.7"
  }
 },
 "nbformat": 4,
 "nbformat_minor": 5
}
