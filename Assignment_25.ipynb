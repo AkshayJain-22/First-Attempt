{
 "cells": [
  {
   "cell_type": "raw",
   "id": "ad7ace0f",
   "metadata": {},
   "source": [
    "1) What is the difference between enclosing a list comprehension in square brackets and parentheses?\n",
    "Ans. Enclosing in square brackets would make a list whereas in parenthesis a generator would be created.\n",
    "\n",
    "2) What is the relationship between generators and iterators?\n",
    "Ans. They both make iterable objects. \n",
    "\n",
    "3) What are the signs that a function is a generator function?\n",
    "Ans. Instead of a return statement the function would have a 'yield' statement.\n",
    "\n",
    "4) What is the purpose of a yield statement?\n",
    "Ans. The yield keyword in Python is used to create generators. A generator is a type of collection that produces items on-the-        fly and can only be iterated once.\n",
    "\n",
    "5) What is the relationship between map calls and list comprehensions? Make a comparison and contrast between the two.\n",
    "Ans. Both map calls and list comprehensions can be used to generate iterable objects on-the-fly. But are very different by            default. Map executes specified function for each item in an iterable and saves the result in an iterable object of data        type 'map'. Whereas, list comprehensions produces a list using any previous iterable(list, tuple,etc) and given                  conditions. \n",
    "     -List comprehension is more concise and easier to read as compared to map.\n",
    "     -List comprehension allows filtering. In map, we have no such facility. For example, to print all even numbers in range of       100, we can write [n for n in range(100) if n%2 == 0]. There is no alternate for it in map.\n",
    "     -List comprehension is faster than map when we need to evaluate expressions that are too long or complicated to express.\n",
    "     -Map is faster in case of calling an already defined function (as no lambda is required)."
   ]
  }
 ],
 "metadata": {
  "kernelspec": {
   "display_name": "Python 3 (ipykernel)",
   "language": "python",
   "name": "python3"
  },
  "language_info": {
   "codemirror_mode": {
    "name": "ipython",
    "version": 3
   },
   "file_extension": ".py",
   "mimetype": "text/x-python",
   "name": "python",
   "nbconvert_exporter": "python",
   "pygments_lexer": "ipython3",
   "version": "3.9.7"
  }
 },
 "nbformat": 4,
 "nbformat_minor": 5
}
