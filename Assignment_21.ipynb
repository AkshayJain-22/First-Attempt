{
 "cells": [
  {
   "cell_type": "code",
   "execution_count": 4,
   "id": "ea978395",
   "metadata": {},
   "outputs": [],
   "source": [
    "import datetime"
   ]
  },
  {
   "cell_type": "code",
   "execution_count": 11,
   "id": "2e48c5ed",
   "metadata": {},
   "outputs": [
    {
     "data": {
      "text/plain": [
       "datetime.date(2022, 2, 2)"
      ]
     },
     "execution_count": 11,
     "metadata": {},
     "output_type": "execute_result"
    }
   ],
   "source": [
    "date.today()"
   ]
  },
  {
   "cell_type": "code",
   "execution_count": 8,
   "id": "68765bf7",
   "metadata": {},
   "outputs": [
    {
     "name": "stdout",
     "output_type": "stream",
     "text": [
      "Today date is:  2022-02-02\n"
     ]
    }
   ],
   "source": [
    "# Python program to get\n",
    "# current date\n",
    "\n",
    "\n",
    "# Import date class from datetime module\n",
    "from datetime import date\n",
    "\n",
    "\n",
    "# Returns the current local date\n",
    "today = date.today()\n",
    "print(\"Today date is: \", today)\n"
   ]
  },
  {
   "cell_type": "code",
   "execution_count": null,
   "id": "f05883e7",
   "metadata": {},
   "outputs": [],
   "source": [
    "#1. Add the current date to the text file today.txt as a string.\n",
    "from datetime import date\n",
    "\n",
    "file = open('today.txt','w')\n",
    "file.write(str(date.today()))\n",
    "file.close()"
   ]
  },
  {
   "cell_type": "code",
   "execution_count": null,
   "id": "008a0e07",
   "metadata": {},
   "outputs": [],
   "source": [
    "#2. Read the text file today.txt into the string today_string\n",
    "file = open('today.txt','r')\n",
    "today_string = file.read()"
   ]
  },
  {
   "cell_type": "code",
   "execution_count": null,
   "id": "fdb1b5fc",
   "metadata": {},
   "outputs": [],
   "source": [
    "#3. Parse the date from today_string.\n",
    "for i in today_string:\n",
    "    print (i)"
   ]
  },
  {
   "cell_type": "code",
   "execution_count": null,
   "id": "8a9cb665",
   "metadata": {},
   "outputs": [],
   "source": [
    "#4. List the files in your current directory\n",
    "import os \n",
    "os.listdir()"
   ]
  },
  {
   "cell_type": "code",
   "execution_count": null,
   "id": "a944a59e",
   "metadata": {},
   "outputs": [],
   "source": [
    "#5. Create a list of all of the files in your parent directory (minimum five files should be available).\n",
    "os.chdir(os.path.abspath(os.path.join(path, os.pardir)))\n",
    "files = os.listdir()"
   ]
  },
  {
   "cell_type": "code",
   "execution_count": null,
   "id": "a60cfbbf",
   "metadata": {},
   "outputs": [],
   "source": [
    "#6. Use multiprocessing to create three separate processes. Make each one wait a random number of\n",
    "#seconds between one and five, print the current time, and then exit.\n",
    "import time\n",
    "\n",
    "def process1:\n",
    "    for i in range(10):\n",
    "        print(i)\n",
    "    time.sleep(random.randint(1,5))\n",
    "\n",
    "def process2:\n",
    "    for i in range(20,30):\n",
    "        print(i)\n",
    "    time.sleep(random.randint(1,5))\n",
    "    \n",
    "def process3:\n",
    "    for i in range(40,50):\n",
    "        print(i)\n",
    "    time.sleep(random.randint(1,5))    \n"
   ]
  },
  {
   "cell_type": "code",
   "execution_count": null,
   "id": "f6abe366",
   "metadata": {},
   "outputs": [],
   "source": [
    "#7. Create a date object of your day of birth.\n",
    "from datetime import timedelta\n",
    "x = datetime.datetime.strptime(\"1995-11-22\",\"%Y-%m-%d\")"
   ]
  },
  {
   "cell_type": "code",
   "execution_count": null,
   "id": "9d6b8da9",
   "metadata": {},
   "outputs": [],
   "source": [
    "#8. What day of the week was your day of birth?\n",
    "date = pd.DataFrame({'inputDate':[x]})\n",
    "date['dayOfWeek'] = date['inputDate'].dt.day_name()"
   ]
  },
  {
   "cell_type": "code",
   "execution_count": null,
   "id": "8fae634c",
   "metadata": {},
   "outputs": [],
   "source": [
    "#9. When will you be (or when were you) 10,000 days old?\n",
    "x = x + timedelta(days=10000) \n",
    "print(x)"
   ]
  }
 ],
 "metadata": {
  "kernelspec": {
   "display_name": "Python 3 (ipykernel)",
   "language": "python",
   "name": "python3"
  },
  "language_info": {
   "codemirror_mode": {
    "name": "ipython",
    "version": 3
   },
   "file_extension": ".py",
   "mimetype": "text/x-python",
   "name": "python",
   "nbconvert_exporter": "python",
   "pygments_lexer": "ipython3",
   "version": "3.9.7"
  }
 },
 "nbformat": 4,
 "nbformat_minor": 5
}
