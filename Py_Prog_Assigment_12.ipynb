{
 "cells": [
  {
   "cell_type": "code",
   "execution_count": null,
   "id": "4ff79144",
   "metadata": {},
   "outputs": [],
   "source": [
    "#1. Write a Python program to Extract Unique values dictionary values?\n",
    "dict ={\"one\":1,\n",
    "      \"two\":2,\n",
    "      \"three\":3,\n",
    "      \"four\":1}\n",
    "l = set(dict.values())"
   ]
  },
  {
   "cell_type": "code",
   "execution_count": 1,
   "id": "7f33eeac",
   "metadata": {},
   "outputs": [],
   "source": [
    "#2. Write a Python program to find the sum of all items in a dictionary?\n",
    "sum(dict.values())"
   ]
  },
  {
   "cell_type": "code",
   "execution_count": null,
   "id": "2312a955",
   "metadata": {},
   "outputs": [],
   "source": [
    "#3. Write a Python program to Merging two Dictionaries?\n",
    "merge = dict1 | dict2"
   ]
  },
  {
   "cell_type": "code",
   "execution_count": null,
   "id": "864fac4d",
   "metadata": {},
   "outputs": [],
   "source": [
    "#4. Write a Python program to convert key-values list to flat dictionary?\n",
    "def Convert(a):\n",
    "    it = iter(a)\n",
    "    res_dct = dict(zip(it, it))\n",
    "    return res_dct\n",
    "         \n",
    "lst = ['a', 1, 'b', 2, 'c', 3]\n",
    "print(Convert(lst))"
   ]
  },
  {
   "cell_type": "code",
   "execution_count": null,
   "id": "0ad0920d",
   "metadata": {},
   "outputs": [],
   "source": [
    "#5. Write a Python program to insertion at the beginning in OrderedDict?\n",
    "from collections import OrderedDict\n",
    "\n",
    "my_ordered_dict = OrderedDict([('Will', '1'), ('James', '2'), ('Rob', '4')])\n",
    "my_ordered_dict.update({'Mark':'7'})\n",
    "my_ordered_dict.move_to_end('Mark', last = False)\n",
    "\n",
    "print(my_ordered_dict)"
   ]
  },
  {
   "cell_type": "code",
   "execution_count": null,
   "id": "7017cece",
   "metadata": {},
   "outputs": [],
   "source": [
    "#6. Write a Python program to check order of character in string using OrderedDict()?\n",
    "# Function to check if string follows order of\n",
    "# characters defined by a pattern\n",
    "from collections import OrderedDict\n",
    "\n",
    "def checkOrder(input, pattern):\n",
    "\n",
    "    # create empty OrderedDict\n",
    "    # output will be like {'a': None,'b': None, 'c': None}\n",
    "    dict = OrderedDict.fromkeys(input)\n",
    "\n",
    "    # traverse generated OrderedDict parallel with\n",
    "    # pattern string to check if order of characters\n",
    "    # are same or not\n",
    "    ptrlen = 0\n",
    "    for key,value in dict.items():\n",
    "        if (key == pattern[ptrlen]):\n",
    "            print(key)\n",
    "            ptrlen = ptrlen + 1\n",
    "\n",
    "        # check if we have traverse complete\n",
    "        # pattern string\n",
    "        if (ptrlen == (len(pattern))):\n",
    "            return 'true'\n",
    "\n",
    "    # if we come out from for loop that means\n",
    "    # order was mismatched\n",
    "    return 'false'\n",
    "\n",
    "# Driver program\n",
    "if __name__ == \"__main__\":\n",
    "    input = 'engineeres rock'\n",
    "    pattern = 'egr'\n",
    "    print (checkOrder(input,pattern))\n"
   ]
  },
  {
   "cell_type": "code",
   "execution_count": null,
   "id": "e35e2e7b",
   "metadata": {},
   "outputs": [],
   "source": [
    "#7. Write a Python program to sort Python Dictionaries by Key or Value?\n",
    "dict1 = {'b':2,\n",
    "         'c':3,\n",
    "         'd':4,\n",
    "         'a':1\n",
    "        }\n",
    "keys = list(dict1.keys())\n",
    "keys.sort()\n",
    "sortd_dict = OrderedDict()\n",
    "for i in keys:\n",
    "    sortd_dict[i] = dict1[i]"
   ]
  }
 ],
 "metadata": {
  "kernelspec": {
   "display_name": "Python 3 (ipykernel)",
   "language": "python",
   "name": "python3"
  },
  "language_info": {
   "codemirror_mode": {
    "name": "ipython",
    "version": 3
   },
   "file_extension": ".py",
   "mimetype": "text/x-python",
   "name": "python",
   "nbconvert_exporter": "python",
   "pygments_lexer": "ipython3",
   "version": "3.9.7"
  }
 },
 "nbformat": 4,
 "nbformat_minor": 5
}
