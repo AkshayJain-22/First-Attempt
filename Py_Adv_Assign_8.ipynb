{
 "cells": [
  {
   "cell_type": "raw",
   "id": "8728e009",
   "metadata": {},
   "source": [
    "Q1. What are the two latest user-defined exception constraints in Python 3.X?\n",
    "Ans. \n",
    "\n",
    "\n",
    "Q2. How are class-based exceptions that have been raised matched to handlers?\n",
    "Ans. By overriding __init__ and __str__ methods of the Exception class from which former class is derived.\n",
    "\n",
    "\n",
    "Q3. Describe two methods for attaching context information to exception artefacts.\n",
    "Ans. __context__ and __cause__ methods.\n",
    "\n",
    "\n",
    "Q4. Describe two methods for specifying the text of an exception object's error message.\n",
    "Ans.a) raise Exception(\"Error Message\")\n",
    "    b) except Exception as e:\n",
    "           print(\"Error Message\")\n",
    "           \n",
    "Q5. Why do you no longer use string-based exceptions?\n",
    "Ans. Python 1.5 and later has changed it's exceptions from string based to classes."
   ]
  }
 ],
 "metadata": {
  "kernelspec": {
   "display_name": "Python 3 (ipykernel)",
   "language": "python",
   "name": "python3"
  },
  "language_info": {
   "codemirror_mode": {
    "name": "ipython",
    "version": 3
   },
   "file_extension": ".py",
   "mimetype": "text/x-python",
   "name": "python",
   "nbconvert_exporter": "python",
   "pygments_lexer": "ipython3",
   "version": "3.9.7"
  }
 },
 "nbformat": 4,
 "nbformat_minor": 5
}
