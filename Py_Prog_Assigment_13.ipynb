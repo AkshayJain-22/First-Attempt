{
 "cells": [
  {
   "cell_type": "raw",
   "id": "f58d6a45",
   "metadata": {},
   "source": [
    "Question 1:\n",
    "\n",
    "Write a program that calculates and prints the value according to the given formula:\n",
    "\n",
    "Q = Square root of [(2 * C * D)/H]\n",
    "\n",
    "Following are the fixed values of C and H:\n",
    "\n",
    "C is 50. H is 30.\n",
    "\n",
    "D is the variable whose values should be input to your program in a comma-separated sequence.\n",
    "\n",
    "Example\n",
    "\n",
    "Let us assume the following comma separated input sequence is given to the program:\n",
    "\n",
    "100,150,180\n",
    "\n",
    "The output of the program should be:\n",
    "\n",
    "18,22,24\n"
   ]
  },
  {
   "cell_type": "code",
   "execution_count": null,
   "id": "7f32a87a",
   "metadata": {},
   "outputs": [],
   "source": [
    "D = input(\"Enter three values: \").split(',')\n",
    "C = 50\n",
    "D = 30\n",
    "for i in range(len(D)):\n",
    "    D[i] = sqrt(2*C*int(D[i])/H)\n",
    "D"
   ]
  },
  {
   "cell_type": "raw",
   "id": "1e266088",
   "metadata": {},
   "source": [
    "Question 2:\n",
    "Write a program which takes 2 digits, X,Y as input and generates a 2-dimensional array. The element value in the i-th row and j-th column of the array should be i*j.\n",
    "\n",
    "Note: i=0,1.., X-1; j=0,1,¡\u001fY-1.\n",
    "\n",
    "Example\n",
    "\n",
    "Suppose the following inputs are given to the program:\n",
    "\n",
    "3,5\n",
    "\n",
    "Then, the output of the program should be:\n",
    "\n",
    "[[0, 0, 0, 0, 0], [0, 1, 2, 3, 4], [0, 2, 4, 6, 8]] "
   ]
  },
  {
   "cell_type": "code",
   "execution_count": null,
   "id": "8fba5e85",
   "metadata": {},
   "outputs": [],
   "source": [
    "arr = []\n",
    "for i in range row:\n",
    "    sub_array = []\n",
    "    for j in range col:\n",
    "        sub_array.append(i*j)\n",
    "    arr.appned(sub_array)\n",
    "arr"
   ]
  },
  {
   "cell_type": "raw",
   "id": "fc23880f",
   "metadata": {},
   "source": [
    "Question 3:\n",
    "Write a program that accepts a comma separated sequence of words as input and prints the words in a comma-separated sequence after sorting them alphabetically.\n",
    "\n",
    "Suppose the following input is supplied to the program:\n",
    "\n",
    "without,hello,bag,world\n",
    "\n",
    "Then, the output should be:\n",
    "\n",
    "bag,hello,without,world"
   ]
  },
  {
   "cell_type": "code",
   "execution_count": null,
   "id": "85cd18e5",
   "metadata": {},
   "outputs": [],
   "source": [
    "l = input(\"Enter all the words: \").split(',')\n",
    "l.sort()\n",
    "l"
   ]
  },
  {
   "cell_type": "raw",
   "id": "d2fd3509",
   "metadata": {},
   "source": [
    "Question 4:\n",
    "Write a program that accepts a sequence of whitespace separated words as input and prints the words after removing all duplicate words and sorting them alphanumerically.\n",
    "\n",
    "Suppose the following input is supplied to the program:\n",
    "\n",
    "hello world and practice makes perfect and hello world again\n",
    "\n",
    "Then, the output should be:\n",
    "\n",
    "again and hello makes perfect practice world"
   ]
  },
  {
   "cell_type": "code",
   "execution_count": null,
   "id": "2d0260b0",
   "metadata": {},
   "outputs": [],
   "source": [
    "l = input(\"Enter all the words: \").split(' ')\n",
    "l = list(set(l))\n",
    "l.sort()\n",
    "\" \".join(l)"
   ]
  },
  {
   "cell_type": "raw",
   "id": "0c670459",
   "metadata": {},
   "source": [
    "Question 5:\n",
    "Write a program that accepts a sentence and calculate the number of letters and digits.\n",
    "\n",
    "Suppose the following input is supplied to the program:\n",
    "\n",
    "hello world! 123\n",
    "\n",
    "Then, the output should be:\n",
    "\n",
    "LETTERS 10\n",
    "\n",
    "DIGITS 3"
   ]
  },
  {
   "cell_type": "code",
   "execution_count": null,
   "id": "11e36b82",
   "metadata": {},
   "outputs": [],
   "source": [
    "l = input(\"Enter all the words: \")\n",
    "letter = 0\n",
    "num = 0\n",
    "for i in l:\n",
    "    if i.isalpha():\n",
    "        letter+=1\n",
    "    elif i.isnumeric():\n",
    "        num+=1\n",
    "print(\"Letters: {}\\n Digits: {}\".format(letter,num))"
   ]
  },
  {
   "cell_type": "raw",
   "id": "2c3f2273",
   "metadata": {},
   "source": [
    "Question 6:\n",
    "A website requires the users to input username and password to register. Write a program to check the validity of password input by users.\n",
    "\n",
    "Following are the criteria for checking the password:\n",
    "\n",
    "1. At least 1 letter between [a-z]\n",
    "\n",
    "2. At least 1 number between [0-9]\n",
    "\n",
    "1. At least 1 letter between [A-Z]\n",
    "\n",
    "3. At least 1 character from [$#@]\n",
    "\n",
    "4. Minimum length of transaction password: 6\n",
    "\n",
    "5. Maximum length of transaction password: 12\n",
    "\n",
    "Your program should accept a sequence of comma separated passwords and will check them according to the above criteria. Passwords that match the criteria are to be printed, each separated by a comma.\n",
    "\n",
    "Example\n",
    "\n",
    "If the following passwords are given as input to the program:\n",
    "\n",
    "ABd1234@1,a F1#,2w3E*,2We3345\n",
    "\n",
    "Then, the output of the program should be:\n",
    "\n",
    "ABd1234@1"
   ]
  },
  {
   "cell_type": "code",
   "execution_count": null,
   "id": "f50958c7",
   "metadata": {},
   "outputs": [],
   "source": [
    "l = input(\"Enter passwords: \").split(\",\")\n",
    "for i in l:\n",
    "    lower=0\n",
    "    upper=0\n",
    "    digit=0\n",
    "    char=0\n",
    "    length=0\n",
    "    for j in i:\n",
    "        if j.islower():\n",
    "            lower+=1\n",
    "        elif j.isupper():\n",
    "            upper+=1\n",
    "        elif j.isdigit():\n",
    "            digit+=1\n",
    "        elif j in '$#@':\n",
    "            char+=1\n",
    "        if(len(i)>5 and len(i)<13):\n",
    "            length=1\n",
    "    if lower>0 and upper>0 and digit>0 and char>0 and length>0:\n",
    "        print(i)"
   ]
  }
 ],
 "metadata": {
  "kernelspec": {
   "display_name": "Python 3 (ipykernel)",
   "language": "python",
   "name": "python3"
  },
  "language_info": {
   "codemirror_mode": {
    "name": "ipython",
    "version": 3
   },
   "file_extension": ".py",
   "mimetype": "text/x-python",
   "name": "python",
   "nbconvert_exporter": "python",
   "pygments_lexer": "ipython3",
   "version": "3.9.7"
  }
 },
 "nbformat": 4,
 "nbformat_minor": 5
}
