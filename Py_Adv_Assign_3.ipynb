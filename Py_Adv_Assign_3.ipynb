{
 "cells": [
  {
   "cell_type": "raw",
   "id": "ad7ace0f",
   "metadata": {},
   "source": [
    "1. What is the concept of an abstract superclass?\n",
    "Ans. Abstract superclass is used to create subclasses. Since, no instances can be made of an abstract class.\n",
    "\n",
    "2. What happens when a class statement's top level contains a basic assignment statement?\n",
    "Ans. A class variable is formed which is shared by all objects of the class.\n",
    "\n",
    "3. Why does a class need to manually call a superclass's __init__ method?\n",
    "Ans. The reason we use super is so that child classes that may be using cooperative multiple inheritance will call the correct        next parent class function. As without using super it becomes undirectional that which __init__ is called.\n",
    "\n",
    "4. How can you augment, instead of completely replacing, an inherited method?\n",
    "Ans. We can do that by calling the original function using augmented arguments.\n",
    "       class Manager(Person):\n",
    "           def giveRaise(self, percent, bonus=.10):\n",
    "               Person.giveRaise(self, percent + bonus)\n",
    "\n",
    "\n",
    "5. How is the local scope of a class different from that of a function?\n",
    "Ans. Variables of a class are availabel for all functions inside the class, but local scope of a function is restricted to the        function itself"
   ]
  }
 ],
 "metadata": {
  "kernelspec": {
   "display_name": "Python 3 (ipykernel)",
   "language": "python",
   "name": "python3"
  },
  "language_info": {
   "codemirror_mode": {
    "name": "ipython",
    "version": 3
   },
   "file_extension": ".py",
   "mimetype": "text/x-python",
   "name": "python",
   "nbconvert_exporter": "python",
   "pygments_lexer": "ipython3",
   "version": "3.9.7"
  }
 },
 "nbformat": 4,
 "nbformat_minor": 5
}
