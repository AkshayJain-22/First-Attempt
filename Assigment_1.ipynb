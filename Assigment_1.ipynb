{
 "cells": [
  {
   "cell_type": "raw",
   "id": "1c4b9dbb",
   "metadata": {},
   "source": [
    "1. In the below elements which of them are values or an expression? eg:- values can be integer or string and expressions will be mathematical operators.\n",
    "* ,'hello',-87.8,- ,/ ,+,6 \n",
    "\n",
    "Ans:- Values: -87.8,6,'hello'\n",
    "      Expression: *,-,/,+\n",
    "\n",
    "2. What is the difference between string and variable?\n",
    "Ans:- A string is a data type which contains one or more characters\n",
    "      A variable is a space in memory stored under a given name, capable of storing some value of predefined data type.\n",
    "\n",
    "3. Describe three different data types.\n",
    "Ans:- String: It is a data type capable of storing characters and alphabets, example,'i-neuron','i','a',etc\n",
    "      int: Its is a data type that can store integers, example, 1,30,59, etc.\n",
    "      float: This data type allows user to store decimal values, example, 3.234, 0.122, etc.\n",
    "      \n",
    "4. What is an expression made up of? What do all expressions do?\n",
    "Ans. Expression is made up of values, operators and variables. All expressions yield values.\n",
    "\n",
    "5. This assignment statements, like spam = 10. What is the difference between an expression and a statement?\n",
    "Ans.An expression is used to yield a value by solving a equation but does not perform an action.\n",
    "    On the other hand, statements are responsible of performing a command or making some action.\n",
    "    For example, '10+10' is an expression which yields 20. But, 'print(10+10)' is a statement which is performing an action of     printing the obtained value to the console.\n",
    "    \n",
    "6. After running the following code, what does the variable bacon contain?\n",
    "bacon = 22\n",
    "bacon + 1\n",
    "Ans: 22\n",
    "\n",
    "7. What should the values of the following two terms be?\n",
    "'spam' + 'spamspam'\n",
    "'spam' * 3\n",
    "Ans. Both will have the same value: 'spamspamspam'\n",
    "\n",
    "8. Why is eggs a valid variable name while 100 is invalid?\n",
    "Ans. 'eggs' is valid variable name since it is not a keyword or predefined token. Where as, '100' is a number which has predefined meaning of numeric 100.\n",
    "\n",
    "9. What three functions can be used to get the integer, floating-point number, or string version of a value?\n",
    "Ans. For integer: int(),\n",
    "     for flaot: flaot(),\n",
    "     for string: str().\n",
    "\n",
    "10. Why does this expression cause an error? How can you fix it?\n",
    "'I have eaten ' + 99 + ' burritos.'\n",
    "Ans. It causes erroe as there are different data types that are subjected to concatenation operation (+), only similar dtaa          types can be added to each other. It can be fixed by converting them to similar data types:-\n",
    "     a) 'I have eaten ' + '99' + ' burritos.' : by adding single qoutes over non-string entity.\n",
    "     b) 'I have eaten ' + str(99) + ' burritos.' : Using str() function.\n",
    "    \n",
    "\n"
   ]
  }
 ],
 "metadata": {
  "kernelspec": {
   "display_name": "Python 3 (ipykernel)",
   "language": "python",
   "name": "python3"
  },
  "language_info": {
   "codemirror_mode": {
    "name": "ipython",
    "version": 3
   },
   "file_extension": ".py",
   "mimetype": "text/x-python",
   "name": "python",
   "nbconvert_exporter": "python",
   "pygments_lexer": "ipython3",
   "version": "3.9.7"
  }
 },
 "nbformat": 4,
 "nbformat_minor": 5
}
